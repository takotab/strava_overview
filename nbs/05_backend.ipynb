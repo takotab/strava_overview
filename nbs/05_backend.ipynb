{
 "cells": [
  {
   "cell_type": "code",
   "execution_count": null,
   "metadata": {},
   "outputs": [],
   "source": [
    "# default_exp backend"
   ]
  },
  {
   "cell_type": "code",
   "execution_count": null,
   "metadata": {},
   "outputs": [],
   "source": [
    "# export\n",
    "from strava_overview.imports import *\n",
    "from strava_overview.s3 import *\n",
    "from strava_overview.auth import *\n",
    "from strava_overview.models import *\n"
   ]
  },
  {
   "cell_type": "code",
   "execution_count": null,
   "metadata": {},
   "outputs": [],
   "source": [
    "# export\n",
    "from dotenv import load_dotenv, find_dotenv\n",
    "load_dotenv(find_dotenv())\n",
    "client_id, secret = os.getenv(\"client_id\"), os.getenv(\"secret\")"
   ]
  },
  {
   "cell_type": "code",
   "execution_count": null,
   "metadata": {},
   "outputs": [],
   "source": [
    "# export\n",
    "def save_code_to_token(state, tokens=None, client = None, make_ath=True):\n",
    "    \"\"\"Excecuted by the backend if a new code is coming in.\"\"\"\n",
    "    client = ifnone(client, stravalib.client.Client())\n",
    "    tokens = ifnone(tokens, Tokens())\n",
    "    token = client.exchange_code_for_token(\n",
    "            client_id=client_id, client_secret=secret, code=state[\"code\"],\n",
    "        )\n",
    "    client.access_token = token['access_token']\n",
    "    athlete = client.get_athlete()\n",
    "    \n",
    "    if make_ath:\n",
    "        ath = Athlete.from_stravalib(athlete)\n",
    "        ath.access_token = token['access_token']\n",
    "        ath.refresh_token = token['refresh_token']\n",
    "        ath.save()\n",
    "        \n",
    "    tokens.add(athlete.id)\n",
    "            \n",
    "    "
   ]
  },
  {
   "cell_type": "code",
   "execution_count": null,
   "metadata": {},
   "outputs": [],
   "source": []
  },
  {
   "cell_type": "code",
   "execution_count": null,
   "metadata": {},
   "outputs": [
    {
     "name": "stdout",
     "output_type": "stream",
     "text": [
      "Converted 00_s3.ipynb.\n",
      "Converted 01_models.ipynb.\n",
      "Converted 02_ti.ipynb.\n",
      "Converted 04_auth.ipynb.\n",
      "Converted 05_backend.ipynb.\n",
      "Converted index.ipynb.\n"
     ]
    }
   ],
   "source": [
    "from nbdev.export import *\n",
    "notebook2script()\n"
   ]
  },
  {
   "cell_type": "code",
   "execution_count": null,
   "metadata": {},
   "outputs": [],
   "source": []
  }
 ],
 "metadata": {
  "kernelspec": {
   "display_name": "motionreview",
   "language": "python",
   "name": "motionreview"
  }
 },
 "nbformat": 4,
 "nbformat_minor": 4
}
