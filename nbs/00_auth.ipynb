{
 "cells": [
  {
   "cell_type": "code",
   "execution_count": 3,
   "metadata": {},
   "outputs": [],
   "source": [
    "# default_exp auth"
   ]
  },
  {
   "cell_type": "markdown",
   "metadata": {},
   "source": [
    "# auth\n",
    "\n",
    "\n",
    "> API details."
   ]
  },
  {
   "cell_type": "code",
   "execution_count": 4,
   "metadata": {},
   "outputs": [],
   "source": [
    "#hide\n",
    "from nbdev.showdoc import *\n",
    "from fastcore.test import *"
   ]
  },
  {
   "cell_type": "code",
   "execution_count": 43,
   "metadata": {},
   "outputs": [],
   "source": [
    "# export\n",
    "\n",
    "import json\n",
    "import os\n",
    "\n",
    "import stravalib\n",
    "import webbrowser\n",
    "from fastcore.all import *\n"
   ]
  },
  {
   "cell_type": "code",
   "execution_count": 125,
   "metadata": {},
   "outputs": [],
   "source": [
    "# export\n",
    "from dotenv import load_dotenv, find_dotenv\n",
    "load_dotenv(find_dotenv())\n",
    "client_id, secret = os.getenv(\"client_id\"), os.getenv(\"secret\")"
   ]
  },
  {
   "cell_type": "code",
   "execution_count": 124,
   "metadata": {},
   "outputs": [
    {
     "data": {
      "text/plain": [
       "'/home/tako/dev/strava_overview/auth_token.json'"
      ]
     },
     "execution_count": 124,
     "metadata": {},
     "output_type": "execute_result"
    }
   ],
   "source": [
    "f = \"auth_token.json\"\n",
    "find_dotenv(f,raise_error_if_not_found=True)"
   ]
  },
  {
   "cell_type": "code",
   "execution_count": 121,
   "metadata": {},
   "outputs": [],
   "source": [
    "# export\n",
    "class AuthToken:\n",
    "    def __init__(self, f=\"auth_token.json\"):\n",
    "        try:\n",
    "            f = find_dotenv(f,raise_error_if_not_found=True)\n",
    "        except:\n",
    "            f = \"auth_token.json\"\n",
    "        self.path = f\n",
    "\n",
    "    def exists(self):\n",
    "        return os.path.isfile(self.path)\n",
    "\n",
    "    def set(self, dct: {}):\n",
    "        json.dump(dct, open(self.path, \"w\"))\n",
    "\n",
    "    def get(self, state=None):\n",
    "        if state is not None:\n",
    "            return state\n",
    "        return json.load(open(self.path, \"r\"))\n",
    "\n",
    "def save_code_to_token(state, auth=None, client = None):\n",
    "    client = ifnone(client, stravalib.client.Client())\n",
    "    auth = ifnone(auth, AuthToken())\n",
    "    token = client.exchange_code_for_token(\n",
    "            client_id=client_id, client_secret=secret, code=state[\"code\"],\n",
    "        )\n",
    "    state = token\n",
    "    auth.set(state)\n",
    "    \n",
    "\n",
    "def get_access_token(state: {} = None):\n",
    "    client = stravalib.client.Client()\n",
    "    auth = AuthToken()\n",
    "    if not auth.exists():\n",
    "        host = os.getenv(\"host\")\n",
    "        url = 'http://' +host+ ':5555/authorized'\n",
    "        authorize_url = client.authorization_url(\n",
    "            client_id=client_id, redirect_uri=url, scope=\"activity:read_all\"\n",
    "        )\n",
    "        webbrowser.open(authorize_url)\n",
    "    else:\n",
    "        state = auth.get(state)\n",
    "        if \"refresh_token\" in state:\n",
    "            token = client.refresh_access_token(\n",
    "                client_id=client_id,\n",
    "                client_secret=secret,\n",
    "                refresh_token=state[\"refresh_token\"],\n",
    "            )\n",
    "        else:\n",
    "            token = client.exchange_code_for_token(\n",
    "                client_id=client_id, client_secret=secret, code=state[\"code\"],\n",
    "            )\n",
    "        state[\"refresh_token\"] = token[\"refresh_token\"]\n",
    "        state[\"access_token\"] = token[\"access_token\"]\n",
    "        auth.set(state)\n",
    "        return state[\"access_token\"]\n"
   ]
  },
  {
   "cell_type": "code",
   "execution_count": 122,
   "metadata": {},
   "outputs": [
    {
     "data": {
      "text/plain": [
       "'4b91ea8c84b147966f73aa48457308a83d693141'"
      ]
     },
     "execution_count": 122,
     "metadata": {},
     "output_type": "execute_result"
    }
   ],
   "source": [
    "get_access_token()"
   ]
  },
  {
   "cell_type": "code",
   "execution_count": 123,
   "metadata": {},
   "outputs": [
    {
     "name": "stdout",
     "output_type": "stream",
     "text": [
      "Converted 00_auth.ipynb.\n",
      "Converted 01_to_csv.ipynb.\n",
      "Converted 02_parse.ipynb.\n",
      "Converted index.ipynb.\n"
     ]
    }
   ],
   "source": [
    "from nbdev.export import *\n",
    "notebook2script()\n"
   ]
  },
  {
   "cell_type": "code",
   "execution_count": null,
   "metadata": {},
   "outputs": [],
   "source": []
  }
 ],
 "metadata": {
  "kernelspec": {
   "display_name": "motionreview",
   "language": "python",
   "name": "motionreview"
  },
  "language_info": {
   "codemirror_mode": {
    "name": "ipython",
    "version": 3
   },
   "file_extension": ".py",
   "mimetype": "text/x-python",
   "name": "python",
   "nbconvert_exporter": "python",
   "pygments_lexer": "ipython3",
   "version": "3.7.2"
  }
 },
 "nbformat": 4,
 "nbformat_minor": 4
}
