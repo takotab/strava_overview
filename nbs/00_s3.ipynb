{
 "cells": [
  {
   "cell_type": "code",
   "execution_count": null,
   "metadata": {},
   "outputs": [],
   "source": [
    "# default_exp s3"
   ]
  },
  {
   "cell_type": "markdown",
   "metadata": {},
   "source": [
    "# s3\n",
    "\n",
    "> API details."
   ]
  },
  {
   "cell_type": "code",
   "execution_count": null,
   "metadata": {},
   "outputs": [],
   "source": [
    "#hide\n",
    "from nbdev.showdoc import *\n",
    "from fastcore.test import *"
   ]
  },
  {
   "cell_type": "code",
   "execution_count": null,
   "metadata": {},
   "outputs": [
    {
     "data": {
      "text/plain": [
       "True"
      ]
     },
     "execution_count": null,
     "metadata": {},
     "output_type": "execute_result"
    }
   ],
   "source": [
    "# export\n",
    "import json\n",
    "import os\n",
    "from typing import Dict\n",
    "\n",
    "from fastcore.all import *\n",
    "import boto3\n",
    "from dotenv import load_dotenv, find_dotenv\n",
    "load_dotenv(find_dotenv())"
   ]
  },
  {
   "cell_type": "code",
   "execution_count": null,
   "metadata": {},
   "outputs": [],
   "source": [
    "# export\n",
    "def upload_file(f, upload_file=None) -> bool:\n",
    "    upload_file = ifnone(upload_file, f)  \n",
    "    _id,secret = os.getenv(\"AWS_ACCESS_KEY_ID\"), os.getenv(\"AWS_SECRET_ACCESS_KEY\")\n",
    "    s3_client = boto3.client(\"s3\",\n",
    "        aws_access_key_id=_id,\n",
    "        aws_secret_access_key=secret,\n",
    "                            )\n",
    "    r = s3_client.upload_file(f, \"motionreview\", upload_file)\n",
    "    return True"
   ]
  },
  {
   "cell_type": "code",
   "execution_count": null,
   "metadata": {},
   "outputs": [],
   "source": [
    "# export\n",
    "def download_file(filename):\n",
    "    s3 = boto3.client('s3')\n",
    "    with open(filename, 'wb') as f:\n",
    "        s3.download_fileobj('motionreview', filename, f)"
   ]
  },
  {
   "cell_type": "code",
   "execution_count": null,
   "metadata": {},
   "outputs": [],
   "source": [
    "import pandas as pd\n",
    "filename = 'test_file.txt'\n",
    "t='hello there '+str(pd.Timestamp.now())\n",
    "with open(filename,'w') as f:\n",
    "    f.write(t)\n",
    "\n",
    "upload_file(filename)\n",
    "os.remove(filename)\n",
    "test_eq(os.path.isfile(filename),False)\n",
    "download_file(filename)\n",
    "test_eq(os.path.isfile(filename),True)\n",
    "\n",
    "test_eq(open(filename,'r').readlines(),[t])\n",
    "os.remove(filename)"
   ]
  },
  {
   "cell_type": "code",
   "execution_count": null,
   "metadata": {},
   "outputs": [
    {
     "name": "stdout",
     "output_type": "stream",
     "text": [
      "Converted 00_auth.ipynb.\n",
      "Converted 01_to_csv.ipynb.\n",
      "Converted 02_parse.ipynb.\n",
      "Converted 04_s3.ipynb.\n",
      "Converted index.ipynb.\n"
     ]
    }
   ],
   "source": [
    "from nbdev.export import *\n",
    "notebook2script()\n"
   ]
  },
  {
   "cell_type": "code",
   "execution_count": null,
   "metadata": {},
   "outputs": [],
   "source": []
  }
 ],
 "metadata": {
  "kernelspec": {
   "display_name": "motionreview",
   "language": "python",
   "name": "motionreview"
  }
 },
 "nbformat": 4,
 "nbformat_minor": 4
}
