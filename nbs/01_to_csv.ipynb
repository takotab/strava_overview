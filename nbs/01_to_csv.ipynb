{
 "cells": [
  {
   "cell_type": "code",
   "execution_count": 218,
   "metadata": {},
   "outputs": [],
   "source": [
    "# default_exp to_csv"
   ]
  },
  {
   "cell_type": "markdown",
   "metadata": {},
   "source": [
    "# to csv\n",
    "\n",
    "> API details."
   ]
  },
  {
   "cell_type": "code",
   "execution_count": 219,
   "metadata": {},
   "outputs": [],
   "source": [
    "#hide\n",
    "from nbdev.showdoc import *\n",
    "from fastcore.test import *\n",
    "from fastcore.utils import *"
   ]
  },
  {
   "cell_type": "code",
   "execution_count": 220,
   "metadata": {},
   "outputs": [],
   "source": [
    "# export\n",
    "import json"
   ]
  },
  {
   "cell_type": "code",
   "execution_count": 221,
   "metadata": {},
   "outputs": [],
   "source": [
    "# export\n",
    "import http.server\n",
    "\n",
    "class MyServer(http.server.BaseHTTPRequestHandler):\n",
    "  #Handle the web data sent from the strava API\n",
    "    def do_HEAD(self):\n",
    "        return self.do_GET()\n",
    "\n",
    "    def do_GET(self):\n",
    "        #Get the API code for Strava\n",
    "#         self.wfile.write('<script>window.close();</script>')\n",
    "        print(self.path)\n",
    "        state = {o.split(\"=\")[0]: o.split(\"=\")[1] for o in self.path.split(\"&\")}\n",
    "        code = state[\"code\"]\n",
    "        json.dump(state,open('auth_token.json','w'))"
   ]
  },
  {
   "cell_type": "code",
   "execution_count": 222,
   "metadata": {},
   "outputs": [],
   "source": [
    "# Global Variables - put your data in the file 'client.secret' and separate the fields with a comma!\n",
    "client_id, secret = open(\"../client.secret\").read().strip().split(\",\")"
   ]
  },
  {
   "cell_type": "code",
   "execution_count": 223,
   "metadata": {},
   "outputs": [],
   "source": [
    "# export\n",
    "import stravalib\n",
    "import urllib.parse\n",
    "import webbrowser\n",
    "import os\n",
    "import pandas as pd\n",
    "# import datetime"
   ]
  },
  {
   "cell_type": "code",
   "execution_count": 224,
   "metadata": {},
   "outputs": [],
   "source": [
    "httpd = http.server.HTTPServer((\"localhost\", 9283), MyServer)"
   ]
  },
  {
   "cell_type": "code",
   "execution_count": 225,
   "metadata": {},
   "outputs": [],
   "source": [
    "httpd.server_close()"
   ]
  },
  {
   "cell_type": "code",
   "execution_count": 226,
   "metadata": {},
   "outputs": [],
   "source": [
    "# export\n",
    "class Handel:\n",
    "    def __init__(self,client_id, secret, port = 5000, url = \"http://localhost:xxport/authorized\",types = [\n",
    "            \"time\",\n",
    "            \"distance\",\n",
    "            \"latlng\",\n",
    "            \"altitude\",\n",
    "            \"velocity_smooth\",\n",
    "            \"moving\",\n",
    "            \"grade_smooth\",\n",
    "            \"temp\",\n",
    "            \"watts\",\n",
    "            \"cadence\",\n",
    "            \"heartrate\",\n",
    "    ]\n",
    "                ):\n",
    "        # Create the strava client, and open the web browser for authentication\n",
    "        self.client_id, self.secret, self.types = client_id, secret, types\n",
    "        self.client = stravalib.client.Client()\n",
    "        self.url = url.replace('xxport',str(port))\n",
    "        self.port = port\n",
    "        self.authorize_url = self.client.authorization_url(client_id=client_id, redirect_uri=self.url, scope ='activity:read_all')\n",
    "        \n",
    "    def get_auth(self,):       \n",
    "        \n",
    "        print(\"Opening: %s\" % self.authorize_url)\n",
    "        webbrowser.open(self.authorize_url)\n",
    "\n",
    "        try:\n",
    "            httpd = http.server.HTTPServer((\"localhost\", self.port), MyServer)\n",
    "            httpd.handle_request()\n",
    "            httpd.server_close()\n",
    "\n",
    "        except KeyboardInterrupt:\n",
    "            # Allow ^C to interrupt from any thread.\n",
    "            sys.stdout.write(\"\\033[0m\")\n",
    "            sys.stdout.write(\"User Interupt\\n\")\n",
    "            \n",
    "    def start(self):\n",
    "        if not os.path.isfile('auth_token.json'):\n",
    "            self.get_auth()\n",
    "        state = json.load(open('auth_token.json','r'))\n",
    "        if 'access_token' not in state:\n",
    "            try:\n",
    "                access_token = self.client.exchange_code_for_token(\n",
    "                client_id=self.client_id, client_secret=self.secret, code=state['code'])\n",
    "            except Exception as e:\n",
    "                print(e,'trying new')\n",
    "                self.get_auth()\n",
    "                state = json.load(open('auth_token.json','r'))\n",
    "                access_token = self.client.exchange_code_for_token(\n",
    "                client_id=self.client_id, client_secret=self.secret, code=state['code'])\n",
    "            # access_token save here \n",
    "            state['access_token'] = access_token       \n",
    "            json.dump(state,open('auth_token.json','w'))\n",
    "            \n",
    "        # Now store that access token somewhere (for now, it's just a local variable)\n",
    "        self.client.access_token = state['access_token'][\"access_token\"]\n",
    "        self.athlete = self.client.get_athlete()\n",
    "        print(f\"Welcome {self.athlete.firstname} {self.athlete.lastname}\")"
   ]
  },
  {
   "cell_type": "code",
   "execution_count": 227,
   "metadata": {},
   "outputs": [
    {
     "ename": "AccessUnauthorized",
     "evalue": "Unauthorized: Authorization Error: [{'resource': 'Athlete', 'field': 'access_token', 'code': 'invalid'}]",
     "output_type": "error",
     "traceback": [
      "\u001b[0;31m---------------------------------------------------------------------------\u001b[0m",
      "\u001b[0;31mAccessUnauthorized\u001b[0m                        Traceback (most recent call last)",
      "\u001b[0;32m<ipython-input-227-deee8ba69853>\u001b[0m in \u001b[0;36m<module>\u001b[0;34m\u001b[0m\n\u001b[1;32m      1\u001b[0m \u001b[0mh\u001b[0m \u001b[0;34m=\u001b[0m \u001b[0mHandel\u001b[0m\u001b[0;34m(\u001b[0m\u001b[0mclient_id\u001b[0m\u001b[0;34m,\u001b[0m \u001b[0msecret\u001b[0m\u001b[0;34m)\u001b[0m\u001b[0;34m\u001b[0m\u001b[0;34m\u001b[0m\u001b[0m\n\u001b[0;32m----> 2\u001b[0;31m \u001b[0mh\u001b[0m\u001b[0;34m.\u001b[0m\u001b[0mstart\u001b[0m\u001b[0;34m(\u001b[0m\u001b[0;34m)\u001b[0m\u001b[0;34m\u001b[0m\u001b[0;34m\u001b[0m\u001b[0m\n\u001b[0m",
      "\u001b[0;32m<ipython-input-226-2befb124655f>\u001b[0m in \u001b[0;36mstart\u001b[0;34m(self)\u001b[0m\n\u001b[1;32m     57\u001b[0m         \u001b[0;31m# Now store that access token somewhere (for now, it's just a local variable)\u001b[0m\u001b[0;34m\u001b[0m\u001b[0;34m\u001b[0m\u001b[0;34m\u001b[0m\u001b[0m\n\u001b[1;32m     58\u001b[0m         \u001b[0mself\u001b[0m\u001b[0;34m.\u001b[0m\u001b[0mclient\u001b[0m\u001b[0;34m.\u001b[0m\u001b[0maccess_token\u001b[0m \u001b[0;34m=\u001b[0m \u001b[0mstate\u001b[0m\u001b[0;34m[\u001b[0m\u001b[0;34m'access_token'\u001b[0m\u001b[0;34m]\u001b[0m\u001b[0;34m[\u001b[0m\u001b[0;34m\"access_token\"\u001b[0m\u001b[0;34m]\u001b[0m\u001b[0;34m\u001b[0m\u001b[0;34m\u001b[0m\u001b[0m\n\u001b[0;32m---> 59\u001b[0;31m         \u001b[0mself\u001b[0m\u001b[0;34m.\u001b[0m\u001b[0mathlete\u001b[0m \u001b[0;34m=\u001b[0m \u001b[0mself\u001b[0m\u001b[0;34m.\u001b[0m\u001b[0mclient\u001b[0m\u001b[0;34m.\u001b[0m\u001b[0mget_athlete\u001b[0m\u001b[0;34m(\u001b[0m\u001b[0;34m)\u001b[0m\u001b[0;34m\u001b[0m\u001b[0;34m\u001b[0m\u001b[0m\n\u001b[0m\u001b[1;32m     60\u001b[0m         \u001b[0mprint\u001b[0m\u001b[0;34m(\u001b[0m\u001b[0;34mf\"Welcome {self.athlete.firstname} {self.athlete.lastname}\"\u001b[0m\u001b[0;34m)\u001b[0m\u001b[0;34m\u001b[0m\u001b[0;34m\u001b[0m\u001b[0m\n",
      "\u001b[0;32m~/dev/env3.7/lib/python3.7/site-packages/stravalib/client.py\u001b[0m in \u001b[0;36mget_athlete\u001b[0;34m(self, athlete_id)\u001b[0m\n\u001b[1;32m    233\u001b[0m         \"\"\"\n\u001b[1;32m    234\u001b[0m         \u001b[0;32mif\u001b[0m \u001b[0mathlete_id\u001b[0m \u001b[0;32mis\u001b[0m \u001b[0;32mNone\u001b[0m\u001b[0;34m:\u001b[0m\u001b[0;34m\u001b[0m\u001b[0;34m\u001b[0m\u001b[0m\n\u001b[0;32m--> 235\u001b[0;31m             \u001b[0mraw\u001b[0m \u001b[0;34m=\u001b[0m \u001b[0mself\u001b[0m\u001b[0;34m.\u001b[0m\u001b[0mprotocol\u001b[0m\u001b[0;34m.\u001b[0m\u001b[0mget\u001b[0m\u001b[0;34m(\u001b[0m\u001b[0;34m'/athlete'\u001b[0m\u001b[0;34m)\u001b[0m\u001b[0;34m\u001b[0m\u001b[0;34m\u001b[0m\u001b[0m\n\u001b[0m\u001b[1;32m    236\u001b[0m         \u001b[0;32melse\u001b[0m\u001b[0;34m:\u001b[0m\u001b[0;34m\u001b[0m\u001b[0;34m\u001b[0m\u001b[0m\n\u001b[1;32m    237\u001b[0m             raise NotImplementedError(\"The /athletes/{id} endpoint was removed by Strava.  \"\n",
      "\u001b[0;32m~/dev/env3.7/lib/python3.7/site-packages/stravalib/protocol.py\u001b[0m in \u001b[0;36mget\u001b[0;34m(self, url, check_for_errors, use_webhook_server, **kwargs)\u001b[0m\n\u001b[1;32m    297\u001b[0m         \u001b[0murl\u001b[0m \u001b[0;34m=\u001b[0m \u001b[0murl\u001b[0m\u001b[0;34m.\u001b[0m\u001b[0mformat\u001b[0m\u001b[0;34m(\u001b[0m\u001b[0;34m**\u001b[0m\u001b[0mkwargs\u001b[0m\u001b[0;34m)\u001b[0m\u001b[0;34m\u001b[0m\u001b[0;34m\u001b[0m\u001b[0m\n\u001b[1;32m    298\u001b[0m         \u001b[0mparams\u001b[0m \u001b[0;34m=\u001b[0m \u001b[0mdict\u001b[0m\u001b[0;34m(\u001b[0m\u001b[0;34m[\u001b[0m\u001b[0;34m(\u001b[0m\u001b[0mk\u001b[0m\u001b[0;34m,\u001b[0m \u001b[0mv\u001b[0m\u001b[0;34m)\u001b[0m \u001b[0;32mfor\u001b[0m \u001b[0mk\u001b[0m\u001b[0;34m,\u001b[0m \u001b[0mv\u001b[0m \u001b[0;32min\u001b[0m \u001b[0mkwargs\u001b[0m\u001b[0;34m.\u001b[0m\u001b[0mitems\u001b[0m\u001b[0;34m(\u001b[0m\u001b[0;34m)\u001b[0m \u001b[0;32mif\u001b[0m \u001b[0;32mnot\u001b[0m \u001b[0mk\u001b[0m \u001b[0;32min\u001b[0m \u001b[0mreferenced\u001b[0m\u001b[0;34m]\u001b[0m\u001b[0;34m)\u001b[0m\u001b[0;34m\u001b[0m\u001b[0;34m\u001b[0m\u001b[0m\n\u001b[0;32m--> 299\u001b[0;31m         \u001b[0;32mreturn\u001b[0m \u001b[0mself\u001b[0m\u001b[0;34m.\u001b[0m\u001b[0m_request\u001b[0m\u001b[0;34m(\u001b[0m\u001b[0murl\u001b[0m\u001b[0;34m,\u001b[0m \u001b[0mparams\u001b[0m\u001b[0;34m=\u001b[0m\u001b[0mparams\u001b[0m\u001b[0;34m,\u001b[0m \u001b[0mcheck_for_errors\u001b[0m\u001b[0;34m=\u001b[0m\u001b[0mcheck_for_errors\u001b[0m\u001b[0;34m,\u001b[0m \u001b[0muse_webhook_server\u001b[0m\u001b[0;34m=\u001b[0m\u001b[0muse_webhook_server\u001b[0m\u001b[0;34m)\u001b[0m\u001b[0;34m\u001b[0m\u001b[0;34m\u001b[0m\u001b[0m\n\u001b[0m\u001b[1;32m    300\u001b[0m \u001b[0;34m\u001b[0m\u001b[0m\n\u001b[1;32m    301\u001b[0m     \u001b[0;32mdef\u001b[0m \u001b[0mpost\u001b[0m\u001b[0;34m(\u001b[0m\u001b[0mself\u001b[0m\u001b[0;34m,\u001b[0m \u001b[0murl\u001b[0m\u001b[0;34m,\u001b[0m \u001b[0mfiles\u001b[0m\u001b[0;34m=\u001b[0m\u001b[0;32mNone\u001b[0m\u001b[0;34m,\u001b[0m \u001b[0mcheck_for_errors\u001b[0m\u001b[0;34m=\u001b[0m\u001b[0;32mTrue\u001b[0m\u001b[0;34m,\u001b[0m \u001b[0muse_webhook_server\u001b[0m\u001b[0;34m=\u001b[0m\u001b[0;32mFalse\u001b[0m\u001b[0;34m,\u001b[0m \u001b[0;34m**\u001b[0m\u001b[0mkwargs\u001b[0m\u001b[0;34m)\u001b[0m\u001b[0;34m:\u001b[0m\u001b[0;34m\u001b[0m\u001b[0;34m\u001b[0m\u001b[0m\n",
      "\u001b[0;32m~/dev/env3.7/lib/python3.7/site-packages/stravalib/protocol.py\u001b[0m in \u001b[0;36m_request\u001b[0;34m(self, url, params, files, method, check_for_errors, use_webhook_server)\u001b[0m\n\u001b[1;32m    219\u001b[0m \u001b[0;34m\u001b[0m\u001b[0m\n\u001b[1;32m    220\u001b[0m         \u001b[0;32mif\u001b[0m \u001b[0mcheck_for_errors\u001b[0m\u001b[0;34m:\u001b[0m\u001b[0;34m\u001b[0m\u001b[0;34m\u001b[0m\u001b[0m\n\u001b[0;32m--> 221\u001b[0;31m             \u001b[0mself\u001b[0m\u001b[0;34m.\u001b[0m\u001b[0m_handle_protocol_error\u001b[0m\u001b[0;34m(\u001b[0m\u001b[0mraw\u001b[0m\u001b[0;34m)\u001b[0m\u001b[0;34m\u001b[0m\u001b[0;34m\u001b[0m\u001b[0m\n\u001b[0m\u001b[1;32m    222\u001b[0m \u001b[0;34m\u001b[0m\u001b[0m\n\u001b[1;32m    223\u001b[0m         \u001b[0;31m# 204 = No content\u001b[0m\u001b[0;34m\u001b[0m\u001b[0;34m\u001b[0m\u001b[0;34m\u001b[0m\u001b[0m\n",
      "\u001b[0;32m~/dev/env3.7/lib/python3.7/site-packages/stravalib/protocol.py\u001b[0m in \u001b[0;36m_handle_protocol_error\u001b[0;34m(self, response)\u001b[0m\n\u001b[1;32m    266\u001b[0m \u001b[0;34m\u001b[0m\u001b[0m\n\u001b[1;32m    267\u001b[0m         \u001b[0;32mif\u001b[0m \u001b[0mexc_class\u001b[0m \u001b[0;32mis\u001b[0m \u001b[0;32mnot\u001b[0m \u001b[0;32mNone\u001b[0m\u001b[0;34m:\u001b[0m\u001b[0;34m\u001b[0m\u001b[0;34m\u001b[0m\u001b[0m\n\u001b[0;32m--> 268\u001b[0;31m             \u001b[0;32mraise\u001b[0m \u001b[0mexc_class\u001b[0m\u001b[0;34m(\u001b[0m\u001b[0mmsg\u001b[0m\u001b[0;34m,\u001b[0m \u001b[0mresponse\u001b[0m\u001b[0;34m=\u001b[0m\u001b[0mresponse\u001b[0m\u001b[0;34m)\u001b[0m\u001b[0;34m\u001b[0m\u001b[0;34m\u001b[0m\u001b[0m\n\u001b[0m\u001b[1;32m    269\u001b[0m \u001b[0;34m\u001b[0m\u001b[0m\n\u001b[1;32m    270\u001b[0m         \u001b[0;32mreturn\u001b[0m \u001b[0mresponse\u001b[0m\u001b[0;34m\u001b[0m\u001b[0;34m\u001b[0m\u001b[0m\n",
      "\u001b[0;31mAccessUnauthorized\u001b[0m: Unauthorized: Authorization Error: [{'resource': 'Athlete', 'field': 'access_token', 'code': 'invalid'}]"
     ]
    }
   ],
   "source": [
    "h = Handel(client_id, secret)\n",
    "h.start()"
   ]
  },
  {
   "cell_type": "code",
   "execution_count": null,
   "metadata": {},
   "outputs": [],
   "source": [
    "# export\n",
    "def datetime_fix(start_date, days):\n",
    "    before = pd.Timestamp(start_date)\n",
    "    before = pd.Timestamp(before.year,before.month,before.day,23,59)\n",
    "    before.tz_localize('utc')\n",
    "    after = before - pd.Timedelta(days=days)\n",
    "    return before, after"
   ]
  },
  {
   "cell_type": "code",
   "execution_count": 228,
   "metadata": {},
   "outputs": [],
   "source": [
    "test_eq(datetime_fix(pd.Timestamp('2020'), 7),(pd.Timestamp('2020-01-01 23:59:00'), pd.Timestamp('2019-12-25 23:59:00'))\n",
    "       )\n",
    "test_eq(datetime_fix(pd.Timestamp('2020-03-1'), 7),(pd.Timestamp('2020-03-1 23:59:00'), pd.Timestamp('2020-02-23 23:59:00'))\n",
    "       )"
   ]
  },
  {
   "cell_type": "code",
   "execution_count": 82,
   "metadata": {},
   "outputs": [],
   "source": [
    "# export\n",
    "def get_activities(self, start_date = None, days = 7):\n",
    "    start_date = ifnone(start_date, pd.Timestamp.now())\n",
    "    before, after = datetime_fix(start_date, days)\n",
    "    # Returns a list of Strava activity objects, up to the number specified by limit\n",
    "    activities = self.client.get_activities(before = before, after=after)\n",
    "#     assert len(list(activities)) == limit\n",
    "    for item in activities:\n",
    "        print(pd.to_datetime(item.start_date_local))\n",
    "    return activities\n",
    "Handel.get_activities = get_activities\n"
   ]
  },
  {
   "cell_type": "code",
   "execution_count": 83,
   "metadata": {},
   "outputs": [
    {
     "name": "stdout",
     "output_type": "stream",
     "text": [
      "Welcome Tako Tabak\n",
      "2020-02-08 14:36:10\n",
      "2020-02-08 09:34:10\n",
      "2020-02-07 21:29:29\n",
      "2020-02-07 07:04:27\n",
      "2020-02-06 21:45:03\n",
      "2020-02-06 14:44:50\n",
      "2020-02-05 17:47:55\n",
      "2020-02-05 13:24:49\n",
      "2020-02-04 16:56:05\n",
      "2020-02-04 09:54:45\n",
      "2020-02-03 19:52:32\n",
      "2020-02-03 14:03:02\n"
     ]
    }
   ],
   "source": [
    "h = Handel(client_id, secret)\n",
    "h.start()\n",
    "acts = h.get_activities()"
   ]
  },
  {
   "cell_type": "code",
   "execution_count": 91,
   "metadata": {},
   "outputs": [],
   "source": [
    "# export\n",
    "def get_streams(self, activity, types):\n",
    "    # Returns a Strava 'stream', which is timeseries data from an activity\n",
    "    streams = self.client.get_activity_streams(activity, types=types, series_type=\"time\")\n",
    "    return streams\n",
    "Handel.get_streams = get_streams\n",
    "\n",
    "def parse_activity(self, act):\n",
    "    act_id = act.id\n",
    "    name = act.name\n",
    "    print(str(act_id), str(act.name), act.start_date)\n",
    "    streams = self.get_streams(act_id, self.types)\n",
    "    df = pd.DataFrame()\n",
    "\n",
    "    # Write each row to a dataframe\n",
    "    for item in self.types:\n",
    "        if item in list(streams.keys()):\n",
    "            df[item] = pd.Series(streams[item].data, index=None)\n",
    "        df[\"act_id\"] = act.id\n",
    "        df[\"act_startDate\"] = pd.to_datetime(act.start_date)\n",
    "        df[\"act_name\"] = name\n",
    "    f = str(act_id) + '.csv'\n",
    "    df.to_csv(f, index=False)\n",
    "    return df, f\n",
    "Handel.parse_activity = parse_activity\n",
    "\n",
    "def parse_activitys(self, activities:[]):\n",
    "    fs = []\n",
    "    for act in activities:\n",
    "        df, f = self.parse_activity(act)\n",
    "        fs.append(f)\n",
    "    return fs\n",
    "Handel.parse_activitys = parse_activitys"
   ]
  },
  {
   "cell_type": "code",
   "execution_count": 93,
   "metadata": {},
   "outputs": [
    {
     "name": "stdout",
     "output_type": "stream",
     "text": [
      "Opening: https://www.strava.com/oauth/authorize?client_id=43098&redirect_uri=http%3A%2F%2Flocalhost%3A5000%2Fauthorized&approval_prompt=auto&response_type=code&scope=activity%3Aread_all\n",
      "/authorized?state=&code=0005c18b81608a684d8e292ec1909dde7cc1e285&scope=read,activity:read_all\n",
      "Welcome Tako Tabak\n",
      "2020-02-09 14:29:56\n",
      "2020-02-09 12:19:22\n",
      "2020-02-08 14:36:10\n",
      "2020-02-08 09:34:10\n",
      "2020-02-07 21:29:29\n",
      "2020-02-07 07:04:27\n",
      "2020-02-06 21:45:03\n",
      "2020-02-06 14:44:50\n",
      "2020-02-05 17:47:55\n",
      "2020-02-05 13:24:49\n",
      "2020-02-04 16:56:05\n",
      "2020-02-04 09:54:45\n",
      "2020-02-03 19:52:32\n",
      "2020-02-03 14:03:02\n",
      "3085708054 Middagwandeling 2020-02-09 13:29:56+00:00\n",
      "3085131773 Herstel werkzaamheden 2020-02-09 11:19:22+00:00\n",
      "3082354767 Middagactiviteit 2020-02-08 13:36:10+00:00\n",
      "3081779961 Ochtendrit behoorlijke wind 2020-02-08 08:34:10+00:00\n",
      "3080495489 Nachtactiviteit 2020-02-07 20:29:29+00:00\n",
      "3078619836 Ochtendactiviteit 2020-02-07 06:04:27+00:00\n",
      "3077865463 Nachtactiviteit 2020-02-06 20:45:03+00:00\n",
      "3076910670 Middagritje 2020-02-06 13:44:50+00:00\n",
      "3074512679 Middagactiviteit 2020-02-05 16:47:55+00:00\n",
      "3073647207 Middagactiviteit 2020-02-05 12:24:49+00:00\n",
      "3072969683 Zwift - Volcano again 🌋 2020-02-04 15:56:05+00:00\n",
      "3070262411 Ochtendactiviteit 2020-02-04 08:54:45+00:00\n",
      "3070029130 Avondactiviteit 2020-02-03 18:52:32+00:00\n",
      "3068012759 Middagactiviteit 2020-02-03 13:03:02+00:00\n"
     ]
    }
   ],
   "source": [
    "h = Handel(client_id, secret)\n",
    "h.start()\n",
    "acts = h.get_activities()\n",
    "fs = h.parse_activitys(acts)"
   ]
  },
  {
   "cell_type": "code",
   "execution_count": 230,
   "metadata": {},
   "outputs": [
    {
     "name": "stdout",
     "output_type": "stream",
     "text": [
      "Converted 01_to_csv.ipynb.\n",
      "Converted Untitled.ipynb.\n",
      "Converted index.ipynb.\n"
     ]
    }
   ],
   "source": [
    "from nbdev.export import *\n",
    "notebook2script()\n"
   ]
  },
  {
   "cell_type": "code",
   "execution_count": null,
   "metadata": {},
   "outputs": [],
   "source": []
  }
 ],
 "metadata": {
  "kernelspec": {
   "display_name": "python37",
   "language": "python",
   "name": "python37"
  },
  "language_info": {
   "codemirror_mode": {
    "name": "ipython",
    "version": 3
   },
   "file_extension": ".py",
   "mimetype": "text/x-python",
   "name": "python",
   "nbconvert_exporter": "python",
   "pygments_lexer": "ipython3",
   "version": "3.7.3"
  }
 },
 "nbformat": 4,
 "nbformat_minor": 2
}
