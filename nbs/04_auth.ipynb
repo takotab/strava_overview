{
 "cells": [
  {
   "cell_type": "code",
   "execution_count": null,
   "metadata": {},
   "outputs": [],
   "source": [
    "# default_exp auth"
   ]
  },
  {
   "cell_type": "markdown",
   "metadata": {},
   "source": [
    "# auth\n",
    "\n",
    "\n",
    "> API details."
   ]
  },
  {
   "cell_type": "code",
   "execution_count": null,
   "metadata": {},
   "outputs": [],
   "source": [
    "#hide\n",
    "from nbdev.showdoc import *\n",
    "from fastcore.test import *"
   ]
  },
  {
   "cell_type": "code",
   "execution_count": null,
   "metadata": {},
   "outputs": [],
   "source": [
    "# export\n",
    "from strava_overview.imports import *\n",
    "import string\n",
    "import random\n",
    "from pynamodb.models import Model\n",
    "from pynamodb.attributes import (\n",
    "    UnicodeAttribute, NumberAttribute, UnicodeSetAttribute, UTCDateTimeAttribute, BooleanAttribute, MapAttribute, ListAttribute,\n",
    ")"
   ]
  },
  {
   "cell_type": "code",
   "execution_count": null,
   "metadata": {},
   "outputs": [],
   "source": [
    "# export\n",
    "characters = string.ascii_uppercase + \"\".join([str(i) for i in range(10)])\n",
    "characters = characters.replace('I','').replace('0','').replace('O','').replace('L','').replace('1','')"
   ]
  },
  {
   "cell_type": "code",
   "execution_count": null,
   "metadata": {},
   "outputs": [
    {
     "data": {
      "text/plain": [
       "'PYRRA9'"
      ]
     },
     "execution_count": null,
     "metadata": {},
     "output_type": "execute_result"
    }
   ],
   "source": [
    "\"\".join([random.choice(characters) for _ in range(6)])"
   ]
  },
  {
   "cell_type": "code",
   "execution_count": null,
   "metadata": {},
   "outputs": [],
   "source": [
    "# export\n",
    "class Tokens(Model):\n",
    "    \"\"\"\n",
    "    This class represents a global secondary index\n",
    "    \"\"\"\n",
    "    class Meta:\n",
    "        table_name = \"motionreview-tokens\"\n",
    "        region = 'eu-central-1'\n",
    "        read_capacity_units = 1\n",
    "        write_capacity_units = 1\n",
    "    token = UnicodeAttribute(hash_key=True)\n",
    "    id = UnicodeAttribute()\n",
    "    used = BooleanAttribute(default = False)\n",
    "    \n",
    "    @classmethod\n",
    "    def add(cls, id):\n",
    "        exists = True\n",
    "        while exists:\n",
    "            token = \"\".join([random.choice(characters) for _ in range(6)])\n",
    "            exists = not len(tokens(token))== 0\n",
    "            print(token)\n",
    "        c= cls(token, id = str(id))\n",
    "        c.save()\n",
    "        return c, token    \n",
    "    \n",
    "    @classmethod\n",
    "    def done(cls, token):\n",
    "        tok = tokens(token)\n",
    "        if len(tok)==0:\n",
    "            raise InvalidToken()\n",
    "        elif len(tok) > 1:\n",
    "            raise Exception()\n",
    "        tok[0].used = True\n",
    "        tok[0].save()\n",
    "        return tok[0].id\n",
    "    \n",
    "def tokens(token):\n",
    "    return list(Tokens.query(token))"
   ]
  },
  {
   "cell_type": "code",
   "execution_count": null,
   "metadata": {},
   "outputs": [
    {
     "name": "stdout",
     "output_type": "stream",
     "text": [
      "FPADX4\n"
     ]
    }
   ],
   "source": [
    "c = Tokens.add(1234)"
   ]
  },
  {
   "cell_type": "code",
   "execution_count": null,
   "metadata": {},
   "outputs": [
    {
     "data": {
      "text/plain": [
       "'1234'"
      ]
     },
     "execution_count": null,
     "metadata": {},
     "output_type": "execute_result"
    }
   ],
   "source": [
    "Tokens.done(c.token)"
   ]
  },
  {
   "cell_type": "code",
   "execution_count": null,
   "metadata": {},
   "outputs": [],
   "source": [
    "# export\n",
    "import os\n",
    "import stravalib\n",
    "import webbrowser\n",
    "\n",
    "def go_strava_auth(client:stravalib.client.Client): \n",
    "    \"\"\"Excecuted by the front-end to start an auth request.\"\"\"   \n",
    "    host = os.getenv(\"host\")\n",
    "    url = 'http://' +host+ ':8080/authorized'\n",
    "    authorize_url = client.authorization_url(\n",
    "        client_id=client_id, redirect_uri=url, scope=\"activity:read_all\"\n",
    "    )\n",
    "    webbrowser.open(authorize_url)"
   ]
  },
  {
   "cell_type": "code",
   "execution_count": null,
   "metadata": {},
   "outputs": [],
   "source": [
    "\n"
   ]
  },
  {
   "cell_type": "code",
   "execution_count": null,
   "metadata": {},
   "outputs": [
    {
     "name": "stdout",
     "output_type": "stream",
     "text": [
      "Converted 00_s3.ipynb.\n",
      "Converted 01_models.ipynb.\n",
      "Converted 02_ti.ipynb.\n",
      "Converted 04_auth.ipynb.\n",
      "Converted 05_backend.ipynb.\n",
      "Converted index.ipynb.\n",
      "Converted plots.ipynb.\n"
     ]
    }
   ],
   "source": [
    "from nbdev.export import *\n",
    "notebook2script()\n"
   ]
  },
  {
   "cell_type": "code",
   "execution_count": null,
   "metadata": {},
   "outputs": [],
   "source": []
  }
 ],
 "metadata": {
  "kernelspec": {
   "display_name": "motionreview",
   "language": "python",
   "name": "motionreview"
  }
 },
 "nbformat": 4,
 "nbformat_minor": 4
}
