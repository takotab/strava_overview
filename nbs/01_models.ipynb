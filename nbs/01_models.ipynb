{
 "cells": [
  {
   "cell_type": "code",
   "execution_count": 2,
   "metadata": {},
   "outputs": [],
   "source": [
    "# default_exp models"
   ]
  },
  {
   "cell_type": "markdown",
   "metadata": {},
   "source": [
    "# models\n",
    "\n",
    "> API details."
   ]
  },
  {
   "cell_type": "code",
   "execution_count": 3,
   "metadata": {},
   "outputs": [],
   "source": [
    "#hide\n",
    "from nbdev.showdoc import *\n",
    "from fastcore.test import *"
   ]
  },
  {
   "cell_type": "code",
   "execution_count": 60,
   "metadata": {},
   "outputs": [],
   "source": [
    "# export\n",
    "import json\n",
    "import bcrypt\n",
    "from fastcore.imports import *\n",
    "from typing import List, Dict"
   ]
  },
  {
   "cell_type": "code",
   "execution_count": 5,
   "metadata": {},
   "outputs": [],
   "source": [
    "# Global Variables - put your data in the file 'client.secret' and separate the fields with a comma!\n",
    "client_id, secret = open(\"../client.secret\").read().strip().split(\",\")"
   ]
  },
  {
   "cell_type": "code",
   "execution_count": 6,
   "metadata": {},
   "outputs": [],
   "source": [
    "# export\n",
    "from strava_overview.imports import *\n",
    "from strava_overview.s3 import *\n",
    "from strava_overview.auth import *"
   ]
  },
  {
   "cell_type": "code",
   "execution_count": 7,
   "metadata": {},
   "outputs": [],
   "source": [
    "# export\n",
    "from pynamodb.models import Model\n",
    "from pynamodb.attributes import (\n",
    "    UnicodeAttribute, NumberAttribute, UnicodeSetAttribute, UTCDateTimeAttribute, BooleanAttribute, MapAttribute, ListAttribute,\n",
    ")"
   ]
  },
  {
   "cell_type": "code",
   "execution_count": 8,
   "metadata": {},
   "outputs": [],
   "source": [
    "# export\n",
    "class EmailIndex(Model):\n",
    "    \"\"\"\n",
    "    This class represents a global secondary index\n",
    "    \"\"\"\n",
    "    class Meta:\n",
    "        table_name = \"motionreview-email\"\n",
    "        region = 'eu-central-1'\n",
    "        read_capacity_units = 1\n",
    "        write_capacity_units = 1\n",
    "    # This attribute is the hash key for the index\n",
    "    # Note that this attribute must also exist\n",
    "    # in the model\n",
    "    email = UnicodeAttribute(hash_key=True)\n",
    "    id = NumberAttribute()\n",
    "    password = UnicodeAttribute()\n",
    "    lock = BooleanAttribute(default = False)\n",
    "    \n",
    "    @classmethod\n",
    "    def get_(self, email:str, hard =False):\n",
    "        emls = list(EmailIndex.query(email))\n",
    "        if len(emls) == 0:\n",
    "            raise KeyError(email)\n",
    "        elif len(emls) == 1:\n",
    "            return emls[0]\n",
    "        else:\n",
    "            if hard:\n",
    "                return emls\n",
    "            raise KeyError(email)\n",
    "        \n",
    "    @classmethod\n",
    "    def exists(self, email:str):\n",
    "        try:\n",
    "            o = self.get_(email)\n",
    "            if o is not None:\n",
    "                return True\n",
    "        except KeyError:\n",
    "            return False\n",
    "    "
   ]
  },
  {
   "cell_type": "code",
   "execution_count": 9,
   "metadata": {},
   "outputs": [],
   "source": [
    "email = EmailIndex('test', id = 126, password = 'foobar')\n",
    "email.save()\n",
    "test_eq(str(EmailIndex.get('test')), str(email))\n",
    "test_eq(EmailIndex.exists('foobar'), False)"
   ]
  },
  {
   "cell_type": "code",
   "execution_count": 10,
   "metadata": {},
   "outputs": [],
   "source": [
    "# export\n",
    "class AlreadyFoundExeption(Exception):pass\n",
    "class IncorrectPassword(Exception):pass\n",
    "class LockedAccount(Exception):pass"
   ]
  },
  {
   "cell_type": "code",
   "execution_count": 54,
   "metadata": {},
   "outputs": [],
   "source": [
    "# export\n",
    "\n",
    "types = [\n",
    "            \"time\",\n",
    "            \"distance\",\n",
    "            \"latlng\",\n",
    "            \"altitude\",\n",
    "            \"velocity_smooth\",\n",
    "            \"moving\",\n",
    "            \"grade_smooth\",\n",
    "            \"temp\",\n",
    "            \"watts\",\n",
    "            \"cadence\",\n",
    "            \"heartrate\",\n",
    "    ]\n",
    "\n",
    "class Athlete(Model):\n",
    "    class Meta:\n",
    "        table_name = \"motionreview-athlete\"\n",
    "        region = 'eu-central-1'\n",
    "    id = NumberAttribute(hash_key=True)\n",
    "    firstname = UnicodeAttribute()\n",
    "    lastname = UnicodeAttribute()\n",
    "    profile = UnicodeAttribute()\n",
    "    sex = UnicodeAttribute()\n",
    "    max_heartrate = NumberAttribute(null=True)\n",
    "    ftp = NumberAttribute(null=True)\n",
    "    weight = NumberAttribute(null=True)\n",
    "    zones = ListAttribute(null=True)\n",
    "    email = UnicodeAttribute(null=True)\n",
    "    access_token = UnicodeAttribute(null=True)\n",
    "    refresh_token = UnicodeAttribute(null=True)\n",
    "    \n",
    "    @classmethod\n",
    "    def from_stravalib(cls, athlete:stravalib.model.Athlete, **kwargs):  \n",
    "        dct = {k:athlete.__getattribute__(k) for k in 'firstname,lastname,profile,sex,max_heartrate,weight,ftp'.split(',') if (athlete.__getattribute__(k) is not None)}\n",
    "        dct.update(kwargs)\n",
    "        ath = cls(athlete.id,**dct)\n",
    "        ath.save()\n",
    "        return ath\n",
    "        \n",
    "    @classmethod\n",
    "    def authenticate(cls, sleep_time = 60):\n",
    "        client = stravalib.client.Client()\n",
    "        go_strava_auth(client)\n",
    "        tokens = Tokens()\n",
    "        i = 0\n",
    "        while i < sleep_time:\n",
    "            i+=1\n",
    "            time.sleep(1)\n",
    "            id = tokens.is_new()\n",
    "            if id:\n",
    "                return cls.get_athlete(id = id)\n",
    "        raise FileNotFoundError\n",
    "        \n",
    "    @classmethod\n",
    "    def from_id(cls, id =None, **kwargs):\n",
    "        if id is None:\n",
    "            return cls.authenticate(**kwargs)\n",
    "        return Athlete.get_athlete(id = id)\n",
    "    \n",
    "    @staticmethod\n",
    "    def get_athlete(id = None, ath:stravalib.model.Athlete = None):\n",
    "        if id is None:\n",
    "            assert type(ath) == stravalib.model.Athlete\n",
    "            id = ath.id\n",
    "\n",
    "        aths =list(Athlete.query(int(id)))\n",
    "        if len(aths) == 1:\n",
    "            return aths[0]\n",
    "        elif len(aths) == 0 and ath is not None:\n",
    "            return Athlete.from_stravalib(ath)\n",
    "        else:\n",
    "            raise IndexError(f\"to many athlets with id {ath.id}:{aths}\")\n",
    "            \n",
    "    @staticmethod\n",
    "    def login(email:str, password:str, trys:int):\n",
    "        emls = EmailIndex.get_(email)\n",
    "        if emls.lock:\n",
    "            raise LockedAccount()\n",
    "        master_secret_key, salt = os.getenv(\"mastersecret\"),os.getenv(\"SALT\")\n",
    "        print(f\"attemted {trys}/10 for {emls.email}\")\n",
    "        combo_password = password + salt + master_secret_key\n",
    "        if bcrypt.checkpw(combo_password.encode(), emls.password.encode()):\n",
    "            return Athlete.from_id(emls.id)\n",
    "        else:\n",
    "            if trys > 10:\n",
    "                emls.lock = True\n",
    "                raise LockedAccount()\n",
    "            raise IncorrectPassword()   \n",
    "            \n",
    "    def add_login(self, email, password, hard = False):\n",
    "        if EmailIndex.exists(email) and not hard:\n",
    "            raise AlreadyFoundExeption()\n",
    "        self.email = email\n",
    "        self.save()\n",
    "        master_secret_key, salt = os.getenv(\"mastersecret\"),os.getenv(\"SALT\")\n",
    "        combo_password = password + salt + master_secret_key\n",
    "        hashed_password = bcrypt.hashpw(combo_password.encode(), salt.encode())\n",
    "        e = EmailIndex(email, id = self.id, password = hashed_password.decode())\n",
    "        e.save()\n",
    "        "
   ]
  },
  {
   "cell_type": "code",
   "execution_count": 55,
   "metadata": {},
   "outputs": [],
   "source": [
    "ath = Athlete.get_athlete('5058582')"
   ]
  },
  {
   "cell_type": "code",
   "execution_count": 56,
   "metadata": {},
   "outputs": [],
   "source": [
    "ath.add_login('takotabak@gmail.com','foobar', hard = True)"
   ]
  },
  {
   "cell_type": "code",
   "execution_count": 57,
   "metadata": {},
   "outputs": [
    {
     "name": "stdout",
     "output_type": "stream",
     "text": [
      "attemted 0/10 for takotabak@gmail.com\n"
     ]
    }
   ],
   "source": [
    "ath2 = Athlete.login('takotabak@gmail.com','foobar',0)\n",
    "test_eq(str(ath2),str(ath))"
   ]
  },
  {
   "cell_type": "code",
   "execution_count": 58,
   "metadata": {},
   "outputs": [
    {
     "data": {
      "text/plain": [
       "motionreview-athlete<5058582>"
      ]
     },
     "execution_count": 58,
     "metadata": {},
     "output_type": "execute_result"
    }
   ],
   "source": [
    "Athlete.authenticate()"
   ]
  },
  {
   "cell_type": "code",
   "execution_count": 75,
   "metadata": {},
   "outputs": [],
   "source": [
    "# export\n",
    "dagen_van_week = {\n",
    "    0: \"Maandag\",\n",
    "    1: \"Dinsdag\",\n",
    "    2: \"Woensdag\",\n",
    "    3: \"Donderdag\",\n",
    "    4: \"Vrijdag\",\n",
    "    5: \"Zaterdag\",\n",
    "    6: \"Zondag\",\n",
    "}\n",
    "types = [\n",
    "            \"time\",\n",
    "            \"distance\",\n",
    "            \"latlng\",\n",
    "            \"altitude\",\n",
    "            \"velocity_smooth\",\n",
    "            \"moving\",\n",
    "            \"grade_smooth\",\n",
    "            \"temp\",\n",
    "            \"watts\",\n",
    "            \"cadence\",\n",
    "            \"heartrate\",\n",
    "    ]"
   ]
  },
  {
   "cell_type": "code",
   "execution_count": 107,
   "metadata": {},
   "outputs": [],
   "source": [
    "# export\n",
    "class Activity(Model):\n",
    "    class Meta:\n",
    "        table_name = \"motionreview-activity\"\n",
    "        region = 'eu-central-1'\n",
    "        \n",
    "    id = UnicodeAttribute(hash_key=True)\n",
    "    athlete_id = UnicodeAttribute()\n",
    "    start_date_local = UTCDateTimeAttribute() \n",
    "    name = UnicodeAttribute() \n",
    "    act_type = UnicodeAttribute()\n",
    "    elapsed_time = NumberAttribute()\n",
    "    device_watts = BooleanAttribute(default=False)  \n",
    "    has_heartrate = BooleanAttribute(default=False)\n",
    "    on_s3 = BooleanAttribute(default=False)\n",
    "    ti = NumberAttribute(null=True)\n",
    "    ti_w = NumberAttribute(null=True)\n",
    "    ti_hr = NumberAttribute(null=True)\n",
    "    \n",
    "    @classmethod\n",
    "    def from_stravalib(cls, act):\n",
    "        Athlete.get_athlete(ath = act.athlete)        \n",
    "        device = act.device_watts if act.device_watts else False\n",
    "        activity = cls(id = str(act.id), name = act.name, athlete_id = str(act.athlete.id), act_type = act.type, \n",
    "                        device_watts=device, start_date_local = act.start_date_local, has_heartrate = act.has_heartrate,\n",
    "                        )     \n",
    "        activity.act = act\n",
    "        return activity\n",
    "    \n",
    "    @classmethod\n",
    "    def from_id(cls, id):\n",
    "        return get_activity(id = id)\n",
    "                \n",
    "    @staticmethod\n",
    "    def get_activity(id = None, act:stravalib.model.Activity = None):\n",
    "        if id is None:\n",
    "            assert type(act) == stravalib.model.Activity\n",
    "            id = act.id\n",
    "            \n",
    "        acts =list(Activity.query(int(id)))\n",
    "        if len(acts) == 1:\n",
    "            return aths[0]\n",
    "        elif len(acts) == 0:\n",
    "            return Activity.from_stravalib(ath)\n",
    "        else:\n",
    "            raise IndexError(f\"to many activitys with id {act.id}:{acts}\")\n",
    "        \n",
    "    def save_stream(self, h):\n",
    "        if not self.on_s3:\n",
    "            streams = h.client.get_activity_streams(self.id, types=types, series_type=\"time\")\n",
    "            self.download_save(streams)\n",
    "            \n",
    "    def filename(self):        \n",
    "        if not os.path.isdir(self.athlete_id):\n",
    "            os.mkdir(self.athlete_id)\n",
    "        return self.athlete_id +'/'+ self.id + '.csv'\n",
    "    \n",
    "    def download_save(self, streams):  \n",
    "        df = pd.DataFrame()\n",
    "        f = self.filename()\n",
    "        # Write each row to a dataframe\n",
    "        for item in types:\n",
    "            if item in list(streams.keys()):\n",
    "                df[item] = pd.Series(streams[item].data, index=None)\n",
    "            df[\"act_id\"] = self.id\n",
    "            df[\"act_name\"] = self.name\n",
    "        df.to_csv(f, index=False)\n",
    "        upload_file(f)\n",
    "        self.on_s3 = True\n",
    "        self.save()\n",
    "        \n",
    "    def get_df(self) -> pd.DataFrame:\n",
    "        f = self.filename()\n",
    "        download_file(f)\n",
    "        return pd.read_csv(f)    \n",
    "    "
   ]
  },
  {
   "cell_type": "code",
   "execution_count": 99,
   "metadata": {},
   "outputs": [],
   "source": [
    "# export\n",
    "class Handel:\n",
    "    def __init__(self, ath_id=None):\n",
    "        self.client = stravalib.client.Client()\n",
    "        self.athlete = Athlete.get_athlete(id = ath_id)\n",
    "        self.set_access_token()        \n",
    "        self.strava_athlete = self.client.get_athlete()\n",
    "        \n",
    "    def set_access_token(self):\n",
    "        self.client.access_token = self.athlete.access_token\n",
    "        try:            \n",
    "            self.strava_athlete = self.client.get_athlete()\n",
    "            return\n",
    "        except:\n",
    "            self.client.access_token = self.client.refresh_access_token(\n",
    "                client_id=client_id,\n",
    "                client_secret=secret,\n",
    "                refresh_token=self.athlete.refresh_token,\n",
    "            )     \n",
    "        self.strava_athlete = self.client.get_athlete()       \n",
    "            "
   ]
  },
  {
   "cell_type": "code",
   "execution_count": 91,
   "metadata": {},
   "outputs": [
    {
     "data": {
      "text/plain": [
       "'Welcome Tako Tabak'"
      ]
     },
     "execution_count": 91,
     "metadata": {},
     "output_type": "execute_result"
    }
   ],
   "source": [
    "h = Handel('5058582')\n",
    "f\"Welcome {h.athlete.firstname} {h.athlete.lastname}\""
   ]
  },
  {
   "cell_type": "code",
   "execution_count": 92,
   "metadata": {},
   "outputs": [
    {
     "data": {
      "text/plain": [
       "5058582"
      ]
     },
     "execution_count": 92,
     "metadata": {},
     "output_type": "execute_result"
    }
   ],
   "source": [
    "h.athlete.id"
   ]
  },
  {
   "cell_type": "code",
   "execution_count": 93,
   "metadata": {},
   "outputs": [],
   "source": [
    "# export\n",
    "def datetime_fix(start_date, days):\n",
    "    before = pd.Timestamp(start_date)\n",
    "    before = pd.Timestamp(before.year,before.month,before.day,23,59)\n",
    "    before.tz_localize('utc')\n",
    "    after = before - pd.Timedelta(days=days)\n",
    "    return before, after"
   ]
  },
  {
   "cell_type": "code",
   "execution_count": 94,
   "metadata": {},
   "outputs": [],
   "source": [
    "test_eq(datetime_fix(pd.Timestamp('2020'), 7),(pd.Timestamp('2020-01-01 23:59:00'), pd.Timestamp('2019-12-25 23:59:00'))\n",
    "       )\n",
    "test_eq(datetime_fix(pd.Timestamp('2020-03-1'), 7),(pd.Timestamp('2020-03-1 23:59:00'), pd.Timestamp('2020-02-23 23:59:00'))\n",
    "       )"
   ]
  },
  {
   "cell_type": "code",
   "execution_count": 101,
   "metadata": {},
   "outputs": [],
   "source": [
    "# export\n",
    "def get_activities(self, start_date = None, days = 7):\n",
    "    start_date = ifnone(start_date, pd.Timestamp.now())\n",
    "    before, after = datetime_fix(start_date, days)\n",
    "    # Returns a list of Strava activity objects, up to the number specified by limit\n",
    "    activities = self.client.get_activities(before = before, after=after)\n",
    "    return [Activity.from_stravalib(item) for item in activities]\n",
    "\n",
    "Handel.get_activities = get_activities\n"
   ]
  },
  {
   "cell_type": "code",
   "execution_count": 108,
   "metadata": {},
   "outputs": [],
   "source": [
    "h = Handel('5058582')\n",
    "acts = h.get_activities()"
   ]
  },
  {
   "cell_type": "code",
   "execution_count": 109,
   "metadata": {},
   "outputs": [
    {
     "data": {
      "text/plain": [
       "[motionreview-activity<3120830048>,\n",
       " motionreview-activity<3118679720>,\n",
       " motionreview-activity<3118324760>,\n",
       " motionreview-activity<3116319839>,\n",
       " motionreview-activity<3115430977>,\n",
       " motionreview-activity<3114193098>,\n",
       " motionreview-activity<3110846984>,\n",
       " motionreview-activity<3110313239>,\n",
       " motionreview-activity<3108839395>,\n",
       " motionreview-activity<3104126384>,\n",
       " motionreview-activity<3104023015>]"
      ]
     },
     "execution_count": 109,
     "metadata": {},
     "output_type": "execute_result"
    }
   ],
   "source": [
    "acts"
   ]
  },
  {
   "cell_type": "code",
   "execution_count": 110,
   "metadata": {},
   "outputs": [
    {
     "data": {
      "text/plain": [
       "<Activity id=3120830048 name='Ochtendactiviteit' resource_state=2>"
      ]
     },
     "execution_count": 110,
     "metadata": {},
     "output_type": "execute_result"
    }
   ],
   "source": [
    "acts[0].act"
   ]
  },
  {
   "cell_type": "code",
   "execution_count": null,
   "metadata": {},
   "outputs": [],
   "source": []
  },
  {
   "cell_type": "code",
   "execution_count": 36,
   "metadata": {},
   "outputs": [],
   "source": [
    "acts[0].save()\n",
    "acts[0].save_stream(h)"
   ]
  },
  {
   "cell_type": "code",
   "execution_count": 78,
   "metadata": {},
   "outputs": [],
   "source": [
    "# export\n",
    "def save_activities(self, activities:[]):\n",
    "    for act in activities:\n",
    "        act.save_stream(self)\n",
    "    return activities\n",
    "Handel.save_activities = save_activities"
   ]
  },
  {
   "cell_type": "code",
   "execution_count": 86,
   "metadata": {},
   "outputs": [],
   "source": [
    "h = Handel('5058582')\n",
    "acts = h.get_activities()"
   ]
  },
  {
   "cell_type": "code",
   "execution_count": 79,
   "metadata": {},
   "outputs": [],
   "source": [
    "acts = h.save_activities(acts[:3])"
   ]
  },
  {
   "cell_type": "code",
   "execution_count": 87,
   "metadata": {},
   "outputs": [],
   "source": [
    "def row(self, handel:Handle) -> Dict:\n",
    "    st_act = \n",
    "    hr = self.act\n",
    "    return {'dag':dagen_van_week[pd.Timestamp(self.start_date_local).weekday()],\n",
    "            'duur':self.elapsed_time,\n",
    "            'type':self.act_type,\n",
    "            'Gemiddelde Hartslag': ifnone(self.average_heartrate,0)}\n",
    "Activity.row = row"
   ]
  },
  {
   "cell_type": "code",
   "execution_count": 88,
   "metadata": {},
   "outputs": [
    {
     "ename": "AttributeError",
     "evalue": "'Activity' object has no attribute 'average_heartrate'",
     "output_type": "error",
     "traceback": [
      "\u001b[0;31m---------------------------------------------------------------------------\u001b[0m",
      "\u001b[0;31mAttributeError\u001b[0m                            Traceback (most recent call last)",
      "\u001b[0;32m<ipython-input-88-775061d0c591>\u001b[0m in \u001b[0;36m<module>\u001b[0;34m\u001b[0m\n\u001b[0;32m----> 1\u001b[0;31m \u001b[0mpd\u001b[0m\u001b[0;34m.\u001b[0m\u001b[0mDataFrame\u001b[0m\u001b[0;34m(\u001b[0m\u001b[0mact\u001b[0m\u001b[0;34m.\u001b[0m\u001b[0mrow\u001b[0m\u001b[0;34m(\u001b[0m\u001b[0;34m)\u001b[0m \u001b[0;32mfor\u001b[0m \u001b[0mact\u001b[0m \u001b[0;32min\u001b[0m \u001b[0macts\u001b[0m\u001b[0;34m)\u001b[0m\u001b[0;34m\u001b[0m\u001b[0;34m\u001b[0m\u001b[0m\n\u001b[0m",
      "\u001b[0;32m~/dev/strava_overview/env/lib/python3.7/site-packages/pandas/core/frame.py\u001b[0m in \u001b[0;36m__init__\u001b[0;34m(self, data, index, columns, dtype, copy)\u001b[0m\n\u001b[1;32m    467\u001b[0m         \u001b[0;32melif\u001b[0m \u001b[0misinstance\u001b[0m\u001b[0;34m(\u001b[0m\u001b[0mdata\u001b[0m\u001b[0;34m,\u001b[0m \u001b[0mabc\u001b[0m\u001b[0;34m.\u001b[0m\u001b[0mIterable\u001b[0m\u001b[0;34m)\u001b[0m \u001b[0;32mand\u001b[0m \u001b[0;32mnot\u001b[0m \u001b[0misinstance\u001b[0m\u001b[0;34m(\u001b[0m\u001b[0mdata\u001b[0m\u001b[0;34m,\u001b[0m \u001b[0;34m(\u001b[0m\u001b[0mstr\u001b[0m\u001b[0;34m,\u001b[0m \u001b[0mbytes\u001b[0m\u001b[0;34m)\u001b[0m\u001b[0;34m)\u001b[0m\u001b[0;34m:\u001b[0m\u001b[0;34m\u001b[0m\u001b[0;34m\u001b[0m\u001b[0m\n\u001b[1;32m    468\u001b[0m             \u001b[0;32mif\u001b[0m \u001b[0;32mnot\u001b[0m \u001b[0misinstance\u001b[0m\u001b[0;34m(\u001b[0m\u001b[0mdata\u001b[0m\u001b[0;34m,\u001b[0m \u001b[0;34m(\u001b[0m\u001b[0mabc\u001b[0m\u001b[0;34m.\u001b[0m\u001b[0mSequence\u001b[0m\u001b[0;34m,\u001b[0m \u001b[0mExtensionArray\u001b[0m\u001b[0;34m)\u001b[0m\u001b[0;34m)\u001b[0m\u001b[0;34m:\u001b[0m\u001b[0;34m\u001b[0m\u001b[0;34m\u001b[0m\u001b[0m\n\u001b[0;32m--> 469\u001b[0;31m                 \u001b[0mdata\u001b[0m \u001b[0;34m=\u001b[0m \u001b[0mlist\u001b[0m\u001b[0;34m(\u001b[0m\u001b[0mdata\u001b[0m\u001b[0;34m)\u001b[0m\u001b[0;34m\u001b[0m\u001b[0;34m\u001b[0m\u001b[0m\n\u001b[0m\u001b[1;32m    470\u001b[0m             \u001b[0;32mif\u001b[0m \u001b[0mlen\u001b[0m\u001b[0;34m(\u001b[0m\u001b[0mdata\u001b[0m\u001b[0;34m)\u001b[0m \u001b[0;34m>\u001b[0m \u001b[0;36m0\u001b[0m\u001b[0;34m:\u001b[0m\u001b[0;34m\u001b[0m\u001b[0;34m\u001b[0m\u001b[0m\n\u001b[1;32m    471\u001b[0m                 \u001b[0;32mif\u001b[0m \u001b[0mis_list_like\u001b[0m\u001b[0;34m(\u001b[0m\u001b[0mdata\u001b[0m\u001b[0;34m[\u001b[0m\u001b[0;36m0\u001b[0m\u001b[0;34m]\u001b[0m\u001b[0;34m)\u001b[0m \u001b[0;32mand\u001b[0m \u001b[0mgetattr\u001b[0m\u001b[0;34m(\u001b[0m\u001b[0mdata\u001b[0m\u001b[0;34m[\u001b[0m\u001b[0;36m0\u001b[0m\u001b[0;34m]\u001b[0m\u001b[0;34m,\u001b[0m \u001b[0;34m\"ndim\"\u001b[0m\u001b[0;34m,\u001b[0m \u001b[0;36m1\u001b[0m\u001b[0;34m)\u001b[0m \u001b[0;34m==\u001b[0m \u001b[0;36m1\u001b[0m\u001b[0;34m:\u001b[0m\u001b[0;34m\u001b[0m\u001b[0;34m\u001b[0m\u001b[0m\n",
      "\u001b[0;32m<ipython-input-88-775061d0c591>\u001b[0m in \u001b[0;36m<genexpr>\u001b[0;34m(.0)\u001b[0m\n\u001b[0;32m----> 1\u001b[0;31m \u001b[0mpd\u001b[0m\u001b[0;34m.\u001b[0m\u001b[0mDataFrame\u001b[0m\u001b[0;34m(\u001b[0m\u001b[0mact\u001b[0m\u001b[0;34m.\u001b[0m\u001b[0mrow\u001b[0m\u001b[0;34m(\u001b[0m\u001b[0;34m)\u001b[0m \u001b[0;32mfor\u001b[0m \u001b[0mact\u001b[0m \u001b[0;32min\u001b[0m \u001b[0macts\u001b[0m\u001b[0;34m)\u001b[0m\u001b[0;34m\u001b[0m\u001b[0;34m\u001b[0m\u001b[0m\n\u001b[0m",
      "\u001b[0;32m<ipython-input-87-f0b5e630de64>\u001b[0m in \u001b[0;36mrow\u001b[0;34m(self)\u001b[0m\n\u001b[1;32m      3\u001b[0m             \u001b[0;34m'duur'\u001b[0m\u001b[0;34m:\u001b[0m\u001b[0mself\u001b[0m\u001b[0;34m.\u001b[0m\u001b[0melapsed_time\u001b[0m\u001b[0;34m,\u001b[0m\u001b[0;34m\u001b[0m\u001b[0;34m\u001b[0m\u001b[0m\n\u001b[1;32m      4\u001b[0m             \u001b[0;34m'type'\u001b[0m\u001b[0;34m:\u001b[0m\u001b[0mself\u001b[0m\u001b[0;34m.\u001b[0m\u001b[0mact_type\u001b[0m\u001b[0;34m,\u001b[0m\u001b[0;34m\u001b[0m\u001b[0;34m\u001b[0m\u001b[0m\n\u001b[0;32m----> 5\u001b[0;31m             'Gemiddelde Hartslag': ifnone(self.average_heartrate,0)}\n\u001b[0m\u001b[1;32m      6\u001b[0m \u001b[0mActivity\u001b[0m\u001b[0;34m.\u001b[0m\u001b[0mrow\u001b[0m \u001b[0;34m=\u001b[0m \u001b[0mrow\u001b[0m\u001b[0;34m\u001b[0m\u001b[0;34m\u001b[0m\u001b[0m\n",
      "\u001b[0;31mAttributeError\u001b[0m: 'Activity' object has no attribute 'average_heartrate'"
     ]
    }
   ],
   "source": [
    "\n",
    "pd.DataFrame(act.row() for act in acts)"
   ]
  },
  {
   "cell_type": "code",
   "execution_count": 70,
   "metadata": {},
   "outputs": [
    {
     "data": {
      "text/html": [
       "<div>\n",
       "<style scoped>\n",
       "    .dataframe tbody tr th:only-of-type {\n",
       "        vertical-align: middle;\n",
       "    }\n",
       "\n",
       "    .dataframe tbody tr th {\n",
       "        vertical-align: top;\n",
       "    }\n",
       "\n",
       "    .dataframe thead th {\n",
       "        text-align: right;\n",
       "    }\n",
       "</style>\n",
       "<table border=\"1\" class=\"dataframe\">\n",
       "  <thead>\n",
       "    <tr style=\"text-align: right;\">\n",
       "      <th></th>\n",
       "      <th>time</th>\n",
       "      <th>act_id</th>\n",
       "      <th>act_name</th>\n",
       "      <th>altitude</th>\n",
       "      <th>velocity_smooth</th>\n",
       "      <th>moving</th>\n",
       "      <th>grade_smooth</th>\n",
       "      <th>temp</th>\n",
       "    </tr>\n",
       "  </thead>\n",
       "  <tbody>\n",
       "    <tr>\n",
       "      <th>0</th>\n",
       "      <td>0</td>\n",
       "      <td>3120830048</td>\n",
       "      <td>Ochtendactiviteit</td>\n",
       "      <td>177.6</td>\n",
       "      <td>0</td>\n",
       "      <td>True</td>\n",
       "      <td>0.0</td>\n",
       "      <td>28</td>\n",
       "    </tr>\n",
       "    <tr>\n",
       "      <th>1</th>\n",
       "      <td>1</td>\n",
       "      <td>3120830048</td>\n",
       "      <td>Ochtendactiviteit</td>\n",
       "      <td>177.6</td>\n",
       "      <td>0</td>\n",
       "      <td>True</td>\n",
       "      <td>0.0</td>\n",
       "      <td>28</td>\n",
       "    </tr>\n",
       "    <tr>\n",
       "      <th>2</th>\n",
       "      <td>2</td>\n",
       "      <td>3120830048</td>\n",
       "      <td>Ochtendactiviteit</td>\n",
       "      <td>177.6</td>\n",
       "      <td>0</td>\n",
       "      <td>True</td>\n",
       "      <td>0.0</td>\n",
       "      <td>28</td>\n",
       "    </tr>\n",
       "    <tr>\n",
       "      <th>3</th>\n",
       "      <td>3</td>\n",
       "      <td>3120830048</td>\n",
       "      <td>Ochtendactiviteit</td>\n",
       "      <td>177.6</td>\n",
       "      <td>0</td>\n",
       "      <td>True</td>\n",
       "      <td>0.0</td>\n",
       "      <td>28</td>\n",
       "    </tr>\n",
       "    <tr>\n",
       "      <th>4</th>\n",
       "      <td>4</td>\n",
       "      <td>3120830048</td>\n",
       "      <td>Ochtendactiviteit</td>\n",
       "      <td>177.6</td>\n",
       "      <td>0</td>\n",
       "      <td>True</td>\n",
       "      <td>0.0</td>\n",
       "      <td>28</td>\n",
       "    </tr>\n",
       "  </tbody>\n",
       "</table>\n",
       "</div>"
      ],
      "text/plain": [
       "   time      act_id           act_name  altitude  velocity_smooth  moving  \\\n",
       "0     0  3120830048  Ochtendactiviteit     177.6                0    True   \n",
       "1     1  3120830048  Ochtendactiviteit     177.6                0    True   \n",
       "2     2  3120830048  Ochtendactiviteit     177.6                0    True   \n",
       "3     3  3120830048  Ochtendactiviteit     177.6                0    True   \n",
       "4     4  3120830048  Ochtendactiviteit     177.6                0    True   \n",
       "\n",
       "   grade_smooth  temp  \n",
       "0           0.0    28  \n",
       "1           0.0    28  \n",
       "2           0.0    28  \n",
       "3           0.0    28  \n",
       "4           0.0    28  "
      ]
     },
     "execution_count": 70,
     "metadata": {},
     "output_type": "execute_result"
    }
   ],
   "source": [
    "df = acts[0].get_df()\n",
    "test_eq(type(df),pd.DataFrame)\n",
    "df.head()"
   ]
  },
  {
   "cell_type": "code",
   "execution_count": 111,
   "metadata": {},
   "outputs": [
    {
     "name": "stdout",
     "output_type": "stream",
     "text": [
      "Converted 00_s3.ipynb.\n",
      "Converted 01_models.ipynb.\n",
      "Converted 02_ti.ipynb.\n",
      "Converted 04_auth.ipynb.\n",
      "Converted 05_backend.ipynb.\n",
      "Converted index.ipynb.\n",
      "Converted plots.ipynb.\n"
     ]
    }
   ],
   "source": [
    "from nbdev.export import *\n",
    "notebook2script()\n"
   ]
  },
  {
   "cell_type": "code",
   "execution_count": null,
   "metadata": {},
   "outputs": [],
   "source": []
  }
 ],
 "metadata": {
  "kernelspec": {
   "display_name": "motionreview",
   "language": "python",
   "name": "motionreview"
  },
  "language_info": {
   "codemirror_mode": {
    "name": "ipython",
    "version": 3
   },
   "file_extension": ".py",
   "mimetype": "text/x-python",
   "name": "python",
   "nbconvert_exporter": "python",
   "pygments_lexer": "ipython3",
   "version": "3.7.2"
  }
 },
 "nbformat": 4,
 "nbformat_minor": 4
}
