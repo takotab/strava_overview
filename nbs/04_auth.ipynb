{
 "cells": [
  {
   "cell_type": "code",
   "execution_count": null,
   "metadata": {},
   "outputs": [],
   "source": [
    "# default_exp auth"
   ]
  },
  {
   "cell_type": "markdown",
   "metadata": {},
   "source": [
    "# auth\n",
    "\n",
    "\n",
    "> API details."
   ]
  },
  {
   "cell_type": "code",
   "execution_count": 2,
   "metadata": {},
   "outputs": [],
   "source": [
    "#hide\n",
    "from nbdev.showdoc import *\n",
    "from fastcore.test import *"
   ]
  },
  {
   "cell_type": "code",
   "execution_count": 3,
   "metadata": {},
   "outputs": [],
   "source": [
    "# export\n",
    "\n",
    "import json\n",
    "import os\n",
    "\n",
    "import stravalib\n",
    "import webbrowser\n",
    "from fastcore.all import *\n",
    "from strava_overview.imports import *\n",
    "client_id, secret = os.getenv(\"client_id\"), os.getenv(\"secret\")"
   ]
  },
  {
   "cell_type": "code",
   "execution_count": 4,
   "metadata": {},
   "outputs": [],
   "source": [
    "# export\n",
    "class Tokens:\n",
    "    \"\"\"A messenger between to procces to comunicate an id which has been handled.\"\"\"\n",
    "    def __init__(self, f=\"tokens.json\"):\n",
    "        try:\n",
    "            f = find_dotenv(f, raise_error_if_not_found=True)\n",
    "        except:\n",
    "            f = \"tokens.json\"\n",
    "        self.f = f\n",
    "        self.reset()\n",
    "\n",
    "    def add(self, id):\n",
    "        with open(self.f,'a') as f:\n",
    "            f.write(f'{str(id)},0\\n')\n",
    "            \n",
    "    def is_new(self):\n",
    "        with open(self.f,'r') as f:\n",
    "            for i,l in enumerate(f):\n",
    "                if l.split(',')[1]=='0\\n':                         \n",
    "                    return l.split(',')[0]        \n",
    "        if i > 10:\n",
    "            self.reset(hard = True)    \n",
    "        return False\n",
    "        \n",
    "    def reset(self, hard = False):\n",
    "        if hard or not os.path.isfile(self.f):\n",
    "            with open(self.f,'w') as f:\n",
    "                f.write('id,new\\n')\n",
    "        self.is_new()\n",
    "            \n",
    "    def done(self, id):\n",
    "        with open(self.f,'r') as f:\n",
    "            content = f.read()            \n",
    "        new_content = content.replace(f'{str(id)},0\\n',f'{str(id)},1\\n')\n",
    "        with open(self.f,'w') as f:\n",
    "            f.write(new_content)\n",
    "#         self.f.close()"
   ]
  },
  {
   "cell_type": "code",
   "execution_count": 5,
   "metadata": {},
   "outputs": [],
   "source": [
    "try:\n",
    "    os.remove(Path('tokens.json'))\n",
    "except:\n",
    "    pass\n",
    "tokens = Tokens()\n",
    "tokens.reset(True)\n",
    "tokens.add('123')\n",
    "with open(tokens.f,'r') as f:\n",
    "    test_eq(f.readlines(), ['id,new\\n','123,0\\n'])\n",
    "test_eq(tokens.is_new(),'123')\n",
    "tokens.add('124')\n",
    "with open(tokens.f,'r') as f:\n",
    "    test_eq(f.readlines(), ['id,new\\n','123,0\\n','124,0\\n'])\n",
    "    \n",
    "tokens = Tokens()    \n",
    "tokens.reset()\n",
    "tokens.done(123)\n",
    "with open(tokens.f,'r') as f:\n",
    "    test_eq(f.readlines(), ['id,new\\n','123,1\\n','124,0\\n'])\n",
    "        \n",
    "tokens.reset(True)\n",
    "for i in range(11):\n",
    "    tokens.add(i)\n",
    "    test_eq(tokens.is_new(),str(i))\n",
    "    tokens.done(i)\n",
    "    \n",
    "tokens.is_new()\n",
    "with open(tokens.f,'r') as f:\n",
    "    test_eq(f.readlines(), ['id,new\\n'])\n",
    "\n",
    "   "
   ]
  },
  {
   "cell_type": "code",
   "execution_count": 6,
   "metadata": {},
   "outputs": [],
   "source": [
    "# export\n",
    "def go_strava_auth(client:stravalib.client.Client): \n",
    "    \"\"\"Excecuted by the front-end to start an auth request.\"\"\"   \n",
    "    host = os.getenv(\"host\")\n",
    "    url = 'http://' +host+ ':5555/authorized'\n",
    "    authorize_url = client.authorization_url(\n",
    "        client_id=client_id, redirect_uri=url, scope=\"activity:read_all\"\n",
    "    )\n",
    "    webbrowser.open(authorize_url)"
   ]
  },
  {
   "cell_type": "code",
   "execution_count": null,
   "metadata": {},
   "outputs": [],
   "source": [
    "\n"
   ]
  },
  {
   "cell_type": "code",
   "execution_count": 8,
   "metadata": {},
   "outputs": [
    {
     "name": "stdout",
     "output_type": "stream",
     "text": [
      "Converted 00_s3.ipynb.\n",
      "Converted 01_models.ipynb.\n",
      "Converted 02_ti.ipynb.\n",
      "Converted 04_auth.ipynb.\n",
      "Converted 05_backend.ipynb.\n",
      "Converted index.ipynb.\n"
     ]
    }
   ],
   "source": [
    "from nbdev.export import *\n",
    "notebook2script()\n"
   ]
  },
  {
   "cell_type": "code",
   "execution_count": null,
   "metadata": {},
   "outputs": [],
   "source": []
  }
 ],
 "metadata": {
  "kernelspec": {
   "display_name": "motionreview",
   "language": "python",
   "name": "motionreview"
  },
  "language_info": {
   "codemirror_mode": {
    "name": "ipython",
    "version": 3
   },
   "file_extension": ".py",
   "mimetype": "text/x-python",
   "name": "python",
   "nbconvert_exporter": "python",
   "pygments_lexer": "ipython3",
   "version": "3.7.2"
  }
 },
 "nbformat": 4,
 "nbformat_minor": 4
}
