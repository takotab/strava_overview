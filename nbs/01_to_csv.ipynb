{
 "cells": [
  {
   "cell_type": "code",
   "execution_count": 5,
   "metadata": {},
   "outputs": [],
   "source": [
    "# default_exp to_csv"
   ]
  },
  {
   "cell_type": "markdown",
   "metadata": {},
   "source": [
    "# to csv\n",
    "\n",
    "> API details."
   ]
  },
  {
   "cell_type": "code",
   "execution_count": 6,
   "metadata": {},
   "outputs": [],
   "source": [
    "#hide\n",
    "from nbdev.showdoc import *\n",
    "from fastcore.test import *"
   ]
  },
  {
   "cell_type": "code",
   "execution_count": 7,
   "metadata": {},
   "outputs": [],
   "source": [
    "# export\n",
    "import json"
   ]
  },
  {
   "cell_type": "code",
   "execution_count": 8,
   "metadata": {},
   "outputs": [],
   "source": [
    "# export\n",
    "import http.server\n",
    "\n",
    "class MyServer(http.server.BaseHTTPRequestHandler):\n",
    "  #Handle the web data sent from the strava API\n",
    "    def do_HEAD(self):\n",
    "        return self.do_GET()\n",
    "\n",
    "    def do_GET(self):\n",
    "        #Get the API code for Strava\n",
    "#         self.wfile.write('<script>window.close();</script>')\n",
    "        print(self.path)\n",
    "        state = {o.split(\"=\")[0]: o.split(\"=\")[1] for o in self.path.split(\"&\")}\n",
    "        code = state[\"code\"]\n",
    "        json.dump(state,open('auth_token.json','w'))"
   ]
  },
  {
   "cell_type": "code",
   "execution_count": 9,
   "metadata": {},
   "outputs": [],
   "source": [
    "# Global Variables - put your data in the file 'client.secret' and separate the fields with a comma!\n",
    "client_id, secret = open(\"../client.secret\").read().strip().split(\",\")"
   ]
  },
  {
   "cell_type": "code",
   "execution_count": 10,
   "metadata": {},
   "outputs": [],
   "source": [
    "# export\n",
    "import stravalib\n",
    "import urllib.parse\n",
    "import webbrowser\n",
    "import os\n",
    "import pandas as pd\n",
    "import sys\n",
    "from fastcore.utils import *"
   ]
  },
  {
   "cell_type": "code",
   "execution_count": 11,
   "metadata": {},
   "outputs": [],
   "source": [
    "httpd = http.server.HTTPServer((\"localhost\", 9283), MyServer)"
   ]
  },
  {
   "cell_type": "code",
   "execution_count": 12,
   "metadata": {},
   "outputs": [],
   "source": [
    "httpd.server_close()"
   ]
  },
  {
   "cell_type": "code",
   "execution_count": 13,
   "metadata": {},
   "outputs": [],
   "source": [
    "# export\n",
    "class Handel:\n",
    "    def __init__(self,client_id, secret, port = 5000, url = \"http://localhost:xxport/authorized\",types = [\n",
    "            \"time\",\n",
    "            \"distance\",\n",
    "            \"latlng\",\n",
    "            \"altitude\",\n",
    "            \"velocity_smooth\",\n",
    "            \"moving\",\n",
    "            \"grade_smooth\",\n",
    "            \"temp\",\n",
    "            \"watts\",\n",
    "            \"cadence\",\n",
    "            \"heartrate\",\n",
    "    ]\n",
    "                ):\n",
    "        # Create the strava client, and open the web browser for authentication\n",
    "        self.client_id, self.secret, self.types = client_id, secret, types\n",
    "        self.client = stravalib.client.Client()\n",
    "        self.url = url.replace('xxport',str(port))\n",
    "        self.port = port\n",
    "        self.authorize_url = self.client.authorization_url(client_id=client_id, redirect_uri=self.url, scope ='activity:read_all')\n",
    "        \n",
    "    def get_auth(self,):       \n",
    "        \n",
    "        print(\"Opening: %s\" % self.authorize_url)\n",
    "        webbrowser.open(self.authorize_url)\n",
    "\n",
    "        try:\n",
    "            httpd = http.server.HTTPServer((\"localhost\", self.port), MyServer)\n",
    "            httpd.handle_request()\n",
    "            httpd.server_close()\n",
    "\n",
    "        except KeyboardInterrupt:\n",
    "            # Allow ^C to interrupt from any thread.\n",
    "            sys.stdout.write(\"\\033[0m\")\n",
    "            sys.stdout.write(\"User Interupt\\n\")\n",
    "            \n",
    "    def start(self):\n",
    "        if not os.path.isfile('auth_token.json'):\n",
    "            self.get_auth()\n",
    "        state = json.load(open('auth_token.json','r'))\n",
    "        if 'access_token' not in state:\n",
    "            try:\n",
    "                access_token = self.client.exchange_code_for_token(\n",
    "                client_id=self.client_id, client_secret=self.secret, code=state['code'])\n",
    "            except Exception as e:\n",
    "                print(e,'trying new')\n",
    "                self.get_auth()\n",
    "                state = json.load(open('auth_token.json','r'))\n",
    "                access_token = self.client.exchange_code_for_token(\n",
    "                client_id=self.client_id, client_secret=self.secret, code=state['code'])\n",
    "            # access_token save here \n",
    "            state['access_token'] = access_token       \n",
    "            json.dump(state,open('auth_token.json','w'))\n",
    "            \n",
    "        # Now store that access token somewhere (for now, it's just a local variable)\n",
    "        self.client.access_token = state['access_token'][\"access_token\"]\n",
    "        self.athlete = self.client.get_athlete()\n",
    "        print(f\"Welcome {self.athlete.firstname} {self.athlete.lastname}\")"
   ]
  },
  {
   "cell_type": "code",
   "execution_count": 14,
   "metadata": {},
   "outputs": [
    {
     "name": "stdout",
     "output_type": "stream",
     "text": [
      "Opening: https://www.strava.com/oauth/authorize?client_id=43098&redirect_uri=http%3A%2F%2Flocalhost%3A5000%2Fauthorized&approval_prompt=auto&response_type=code&scope=activity%3Aread_all\n",
      "/authorized?state=&code=028d5568f26656b2bfefa47f8a45529e71372f4a&scope=read,activity:read_all\n",
      "Welcome Tako Tabak\n"
     ]
    }
   ],
   "source": [
    "h = Handel(client_id, secret)\n",
    "h.start()"
   ]
  },
  {
   "cell_type": "code",
   "execution_count": 15,
   "metadata": {},
   "outputs": [],
   "source": [
    "# export\n",
    "def datetime_fix(start_date, days):\n",
    "    before = pd.Timestamp(start_date)\n",
    "    before = pd.Timestamp(before.year,before.month,before.day,23,59)\n",
    "    before.tz_localize('utc')\n",
    "    after = before - pd.Timedelta(days=days)\n",
    "    return before, after"
   ]
  },
  {
   "cell_type": "code",
   "execution_count": 16,
   "metadata": {},
   "outputs": [],
   "source": [
    "test_eq(datetime_fix(pd.Timestamp('2020'), 7),(pd.Timestamp('2020-01-01 23:59:00'), pd.Timestamp('2019-12-25 23:59:00'))\n",
    "       )\n",
    "test_eq(datetime_fix(pd.Timestamp('2020-03-1'), 7),(pd.Timestamp('2020-03-1 23:59:00'), pd.Timestamp('2020-02-23 23:59:00'))\n",
    "       )"
   ]
  },
  {
   "cell_type": "code",
   "execution_count": 24,
   "metadata": {},
   "outputs": [],
   "source": [
    "# export\n",
    "def get_activities(self, start_date = None, days = 7):\n",
    "    start_date = ifnone(start_date, pd.Timestamp.now())\n",
    "    before, after = datetime_fix(start_date, days)\n",
    "    # Returns a list of Strava activity objects, up to the number specified by limit\n",
    "    activities = self.client.get_activities(before = before, after=after)\n",
    "#     assert len(list(activities)) == limit\n",
    "    return {item.name:item for item in activities}\n",
    "\n",
    "Handel.get_activities = get_activities\n"
   ]
  },
  {
   "cell_type": "code",
   "execution_count": 25,
   "metadata": {},
   "outputs": [
    {
     "name": "stdout",
     "output_type": "stream",
     "text": [
      "Welcome Tako Tabak\n"
     ]
    },
    {
     "data": {
      "text/plain": [
       "{'Avondactiviteit': <Activity id=3088849910 name='Avondactiviteit' resource_state=2>,\n",
       " 'Middagactiviteit': <Activity id=3073647207 name='Middagactiviteit' resource_state=2>,\n",
       " 'Middagwandeling': <Activity id=3085708054 name='Middagwandeling' resource_state=2>,\n",
       " 'Herstel werkzaamheden': <Activity id=3085131773 name='Herstel werkzaamheden' resource_state=2>,\n",
       " 'Ochtendrit behoorlijke wind': <Activity id=3081779961 name='Ochtendrit behoorlijke wind' resource_state=2>,\n",
       " 'Nachtactiviteit': <Activity id=3077865463 name='Nachtactiviteit' resource_state=2>,\n",
       " 'Ochtendactiviteit': <Activity id=3078619836 name='Ochtendactiviteit' resource_state=2>,\n",
       " 'Middagritje': <Activity id=3076910670 name='Middagritje' resource_state=2>}"
      ]
     },
     "execution_count": 25,
     "metadata": {},
     "output_type": "execute_result"
    }
   ],
   "source": [
    "h = Handel(client_id, secret)\n",
    "h.start()\n",
    "acts = h.get_activities()\n",
    "acts"
   ]
  },
  {
   "cell_type": "code",
   "execution_count": 91,
   "metadata": {},
   "outputs": [],
   "source": [
    "# export\n",
    "def get_streams(self, activity, types):\n",
    "    # Returns a Strava 'stream', which is timeseries data from an activity\n",
    "    streams = self.client.get_activity_streams(activity, types=types, series_type=\"time\")\n",
    "    return streams\n",
    "Handel.get_streams = get_streams\n",
    "\n",
    "def parse_activity(self, act):\n",
    "    act_id = act.id\n",
    "    name = act.name\n",
    "    print(str(act_id), str(act.name), act.start_date)\n",
    "    streams = self.get_streams(act_id, self.types)\n",
    "    df = pd.DataFrame()\n",
    "\n",
    "    # Write each row to a dataframe\n",
    "    for item in self.types:\n",
    "        if item in list(streams.keys()):\n",
    "            df[item] = pd.Series(streams[item].data, index=None)\n",
    "        df[\"act_id\"] = act.id\n",
    "        df[\"act_startDate\"] = pd.to_datetime(act.start_date)\n",
    "        df[\"act_name\"] = name\n",
    "    f = str(act_id) + '.csv'\n",
    "    df.to_csv(f, index=False)\n",
    "    return df, f\n",
    "Handel.parse_activity = parse_activity\n",
    "\n",
    "def parse_activitys(self, activities:[]):\n",
    "    fs = []\n",
    "    for act in activities:\n",
    "        df, f = self.parse_activity(act)\n",
    "        fs.append(f)\n",
    "    return fs\n",
    "Handel.parse_activitys = parse_activitys"
   ]
  },
  {
   "cell_type": "code",
   "execution_count": 93,
   "metadata": {},
   "outputs": [
    {
     "name": "stdout",
     "output_type": "stream",
     "text": [
      "Opening: https://www.strava.com/oauth/authorize?client_id=43098&redirect_uri=http%3A%2F%2Flocalhost%3A5000%2Fauthorized&approval_prompt=auto&response_type=code&scope=activity%3Aread_all\n",
      "/authorized?state=&code=0005c18b81608a684d8e292ec1909dde7cc1e285&scope=read,activity:read_all\n",
      "Welcome Tako Tabak\n",
      "2020-02-09 14:29:56\n",
      "2020-02-09 12:19:22\n",
      "2020-02-08 14:36:10\n",
      "2020-02-08 09:34:10\n",
      "2020-02-07 21:29:29\n",
      "2020-02-07 07:04:27\n",
      "2020-02-06 21:45:03\n",
      "2020-02-06 14:44:50\n",
      "2020-02-05 17:47:55\n",
      "2020-02-05 13:24:49\n",
      "2020-02-04 16:56:05\n",
      "2020-02-04 09:54:45\n",
      "2020-02-03 19:52:32\n",
      "2020-02-03 14:03:02\n",
      "3085708054 Middagwandeling 2020-02-09 13:29:56+00:00\n",
      "3085131773 Herstel werkzaamheden 2020-02-09 11:19:22+00:00\n",
      "3082354767 Middagactiviteit 2020-02-08 13:36:10+00:00\n",
      "3081779961 Ochtendrit behoorlijke wind 2020-02-08 08:34:10+00:00\n",
      "3080495489 Nachtactiviteit 2020-02-07 20:29:29+00:00\n",
      "3078619836 Ochtendactiviteit 2020-02-07 06:04:27+00:00\n",
      "3077865463 Nachtactiviteit 2020-02-06 20:45:03+00:00\n",
      "3076910670 Middagritje 2020-02-06 13:44:50+00:00\n",
      "3074512679 Middagactiviteit 2020-02-05 16:47:55+00:00\n",
      "3073647207 Middagactiviteit 2020-02-05 12:24:49+00:00\n",
      "3072969683 Zwift - Volcano again 🌋 2020-02-04 15:56:05+00:00\n",
      "3070262411 Ochtendactiviteit 2020-02-04 08:54:45+00:00\n",
      "3070029130 Avondactiviteit 2020-02-03 18:52:32+00:00\n",
      "3068012759 Middagactiviteit 2020-02-03 13:03:02+00:00\n"
     ]
    }
   ],
   "source": [
    "h = Handel(client_id, secret)\n",
    "h.start()\n",
    "acts = h.get_activities()\n",
    "fs = h.parse_activitys(acts)"
   ]
  },
  {
   "cell_type": "code",
   "execution_count": 26,
   "metadata": {},
   "outputs": [
    {
     "name": "stdout",
     "output_type": "stream",
     "text": [
      "Converted 01_to_csv.ipynb.\n",
      "Converted 02_parse.ipynb.\n",
      "Converted index.ipynb.\n"
     ]
    }
   ],
   "source": [
    "from nbdev.export import *\n",
    "notebook2script()\n"
   ]
  },
  {
   "cell_type": "code",
   "execution_count": null,
   "metadata": {},
   "outputs": [],
   "source": []
  }
 ],
 "metadata": {
  "kernelspec": {
   "display_name": "env37",
   "language": "python",
   "name": "env37"
  },
  "language_info": {
   "codemirror_mode": {
    "name": "ipython",
    "version": 3
   },
   "file_extension": ".py",
   "mimetype": "text/x-python",
   "name": "python",
   "nbconvert_exporter": "python",
   "pygments_lexer": "ipython3",
   "version": "3.7.4"
  }
 },
 "nbformat": 4,
 "nbformat_minor": 4
}
