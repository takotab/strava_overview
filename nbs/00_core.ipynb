{
 "cells": [
  {
   "cell_type": "code",
   "execution_count": 1,
   "metadata": {},
   "outputs": [],
   "source": [
    "# default_exp core"
   ]
  },
  {
   "cell_type": "markdown",
   "metadata": {},
   "source": [
    "# to csv\n",
    "\n",
    "> API details."
   ]
  },
  {
   "cell_type": "code",
   "execution_count": 1,
   "metadata": {},
   "outputs": [],
   "source": [
    "#hide\n",
    "from nbdev.showdoc import *"
   ]
  },
  {
   "cell_type": "code",
   "execution_count": 7,
   "metadata": {},
   "outputs": [
    {
     "name": "stderr",
     "output_type": "stream",
     "text": [
      "/home/tako/dev/strava_overview/env/lib/python3.7/site-packages/pandas/compat/__init__.py:117: UserWarning: Could not import the lzma module. Your installed Python is incomplete. Attempting to use lzma compression will result in a RuntimeError.\n",
      "  warnings.warn(msg)\n"
     ]
    }
   ],
   "source": [
    "import stravalib\n",
    "from http.server import HTTPServer \n",
    "import urllib.parse\n",
    "import webbrowser\n",
    "import pandas as pd\n",
    "import datetime"
   ]
  },
  {
   "cell_type": "code",
   "execution_count": 8,
   "metadata": {},
   "outputs": [
    {
     "ename": "SyntaxError",
     "evalue": "Missing parentheses in call to 'print'. Did you mean print(\"looping through activities...\")? (<ipython-input-8-909aa50dbd40>, line 19)",
     "output_type": "error",
     "traceback": [
      "\u001b[0;36m  File \u001b[0;32m\"<ipython-input-8-909aa50dbd40>\"\u001b[0;36m, line \u001b[0;32m19\u001b[0m\n\u001b[0;31m    print \"looping through activities...\"\u001b[0m\n\u001b[0m                                        ^\u001b[0m\n\u001b[0;31mSyntaxError\u001b[0m\u001b[0;31m:\u001b[0m Missing parentheses in call to 'print'. Did you mean print(\"looping through activities...\")?\n"
     ]
    }
   ],
   "source": [
    "\n",
    "class MyHandler(BaseHTTPServer.BaseHTTPRequestHandler):\n",
    "  #Handle the web data sent from the strava API\n",
    "\n",
    "  def do_HEAD(self):\n",
    "    return self.do_GET()\n",
    "\n",
    "  def do_GET(self):\n",
    "    #Get the API code for Strava\n",
    "    self.wfile.write('<script>window.close();</script>')\n",
    "    code = parse.parse_qs(urlparse.urlparse(self.path).query)['code'][0]\n",
    "\n",
    "    #Login to the API\n",
    "    client  = UseCode(code)\n",
    "\n",
    "    #Retrieve the last limit activities\n",
    "    activities = GetActivities(client,limit)\n",
    "\n",
    "    #Loop through the activities, and create a dict of the dataframe stream data of each activity\n",
    "    print \"looping through activities...\"\n",
    "    df_lst = {}\n",
    "    for act in activities:\n",
    "        print act.name\n",
    "        df_lst[act.start_date] = ParseActivity(act,types)\n",
    "\n",
    "    #create the concatenated df and fill null values\n",
    "    df_total = concatdf(df_lst)\n",
    "    df_total.fillna('',inplace=True)\n",
    "\n",
    "    #Calculate the timestamp column\n",
    "    df_total = df_total.reset_index(level=0)\n",
    "    df_total['timestamp'] = pd.to_datetime(map(calctime, df_total['time'], df_total['level_0'])).to_pydatetime()\n",
    "\n",
    "    #Split out lat and long columns\n",
    "    df_total['lat'] = map(split_lat, (df_total['latlng']))\n",
    "    df_total['long'] = map(split_long, (df_total['latlng']))\n",
    "\n",
    "    #Index by startdate and timestamp, and drop arbitrary columns\n",
    "    df_total = df_total.set_index(['act_startDate','timestamp'])\n",
    "    df_total.drop(['latlng', 'level_0'], axis=1, inplace=True)\n",
    "\n",
    "    #Write the file to a CSV - this will end up in your working directory\n",
    "    now = datetime.datetime.now()\n",
    "    df_total.to_csv('RideData_' + str(now.strftime('%Y%m%d%H%M%S')) + '.csv')\n",
    "    print 'script complete!'\n"
   ]
  },
  {
   "cell_type": "code",
   "execution_count": null,
   "metadata": {},
   "outputs": [],
   "source": []
  }
 ],
 "metadata": {
  "kernelspec": {
   "display_name": "strava",
   "language": "python",
   "name": "strava"
  },
  "language_info": {
   "codemirror_mode": {
    "name": "ipython",
    "version": 3
   },
   "file_extension": ".py",
   "mimetype": "text/x-python",
   "name": "python",
   "nbconvert_exporter": "python",
   "pygments_lexer": "ipython3",
   "version": "3.7.3"
  }
 },
 "nbformat": 4,
 "nbformat_minor": 2
}
