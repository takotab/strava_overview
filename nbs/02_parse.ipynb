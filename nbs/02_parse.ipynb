{
 "cells": [
  {
   "cell_type": "code",
   "execution_count": 1,
   "metadata": {},
   "outputs": [],
   "source": [
    "# default_exp parse"
   ]
  },
  {
   "cell_type": "markdown",
   "metadata": {},
   "source": [
    "# parse\n",
    "\n",
    "> API details.\n",
    "\n",
    "with help from: https://github.com/mtraver/python-fitanalysis/"
   ]
  },
  {
   "cell_type": "code",
   "execution_count": 4,
   "metadata": {},
   "outputs": [],
   "source": [
    "#hide\n",
    "from nbdev.showdoc import *\n",
    "from fastcore.test import *\n",
    "from fastcore.utils import *"
   ]
  },
  {
   "cell_type": "code",
   "execution_count": 5,
   "metadata": {},
   "outputs": [
    {
     "name": "stderr",
     "output_type": "stream",
     "text": [
      "/home/tako/dev/env37/lib/python3.7/site-packages/pandas/compat/__init__.py:85: UserWarning: Could not import the lzma module. Your installed Python is incomplete. Attempting to use lzma compression will result in a RuntimeError.\n",
      "  warnings.warn(msg)\n"
     ]
    }
   ],
   "source": [
    "# export\n",
    "from strava_overview.to_csv import *\n",
    "import pandas as pd\n",
    "import numpy as np"
   ]
  },
  {
   "cell_type": "code",
   "execution_count": 6,
   "metadata": {},
   "outputs": [],
   "source": [
    "import seaborn as sns"
   ]
  },
  {
   "cell_type": "code",
   "execution_count": 7,
   "metadata": {},
   "outputs": [
    {
     "data": {
      "text/html": [
       "<div>\n",
       "<style scoped>\n",
       "    .dataframe tbody tr th:only-of-type {\n",
       "        vertical-align: middle;\n",
       "    }\n",
       "\n",
       "    .dataframe tbody tr th {\n",
       "        vertical-align: top;\n",
       "    }\n",
       "\n",
       "    .dataframe thead th {\n",
       "        text-align: right;\n",
       "    }\n",
       "</style>\n",
       "<table border=\"1\" class=\"dataframe\">\n",
       "  <thead>\n",
       "    <tr style=\"text-align: right;\">\n",
       "      <th></th>\n",
       "      <th>time</th>\n",
       "      <th>act_id</th>\n",
       "      <th>act_startDate</th>\n",
       "      <th>act_name</th>\n",
       "      <th>distance</th>\n",
       "      <th>latlng</th>\n",
       "      <th>altitude</th>\n",
       "      <th>velocity_smooth</th>\n",
       "      <th>moving</th>\n",
       "      <th>grade_smooth</th>\n",
       "      <th>temp</th>\n",
       "      <th>watts</th>\n",
       "      <th>cadence</th>\n",
       "      <th>heartrate</th>\n",
       "    </tr>\n",
       "  </thead>\n",
       "  <tbody>\n",
       "    <tr>\n",
       "      <th>97</th>\n",
       "      <td>97</td>\n",
       "      <td>3076910670</td>\n",
       "      <td>2020-02-06 13:44:50+00:00</td>\n",
       "      <td>Middagritje</td>\n",
       "      <td>740.4</td>\n",
       "      <td>[52.545855, 4.670854]</td>\n",
       "      <td>-0.4</td>\n",
       "      <td>7.5</td>\n",
       "      <td>True</td>\n",
       "      <td>0.0</td>\n",
       "      <td>15</td>\n",
       "      <td>175</td>\n",
       "      <td>92</td>\n",
       "      <td>130</td>\n",
       "    </tr>\n",
       "    <tr>\n",
       "      <th>98</th>\n",
       "      <td>98</td>\n",
       "      <td>3076910670</td>\n",
       "      <td>2020-02-06 13:44:50+00:00</td>\n",
       "      <td>Middagritje</td>\n",
       "      <td>747.6</td>\n",
       "      <td>[52.545794, 4.670888]</td>\n",
       "      <td>-0.4</td>\n",
       "      <td>7.4</td>\n",
       "      <td>True</td>\n",
       "      <td>0.7</td>\n",
       "      <td>15</td>\n",
       "      <td>174</td>\n",
       "      <td>92</td>\n",
       "      <td>129</td>\n",
       "    </tr>\n",
       "    <tr>\n",
       "      <th>99</th>\n",
       "      <td>99</td>\n",
       "      <td>3076910670</td>\n",
       "      <td>2020-02-06 13:44:50+00:00</td>\n",
       "      <td>Middagritje</td>\n",
       "      <td>755.0</td>\n",
       "      <td>[52.545742, 4.670961]</td>\n",
       "      <td>-0.4</td>\n",
       "      <td>7.3</td>\n",
       "      <td>True</td>\n",
       "      <td>1.3</td>\n",
       "      <td>15</td>\n",
       "      <td>138</td>\n",
       "      <td>94</td>\n",
       "      <td>128</td>\n",
       "    </tr>\n",
       "    <tr>\n",
       "      <th>100</th>\n",
       "      <td>100</td>\n",
       "      <td>3076910670</td>\n",
       "      <td>2020-02-06 13:44:50+00:00</td>\n",
       "      <td>Middagritje</td>\n",
       "      <td>762.9</td>\n",
       "      <td>[52.545703, 4.671058]</td>\n",
       "      <td>-0.2</td>\n",
       "      <td>7.3</td>\n",
       "      <td>True</td>\n",
       "      <td>1.3</td>\n",
       "      <td>15</td>\n",
       "      <td>123</td>\n",
       "      <td>91</td>\n",
       "      <td>128</td>\n",
       "    </tr>\n",
       "    <tr>\n",
       "      <th>101</th>\n",
       "      <td>101</td>\n",
       "      <td>3076910670</td>\n",
       "      <td>2020-02-06 13:44:50+00:00</td>\n",
       "      <td>Middagritje</td>\n",
       "      <td>770.9</td>\n",
       "      <td>[52.545668, 4.671161]</td>\n",
       "      <td>0.0</td>\n",
       "      <td>7.4</td>\n",
       "      <td>True</td>\n",
       "      <td>1.3</td>\n",
       "      <td>15</td>\n",
       "      <td>114</td>\n",
       "      <td>90</td>\n",
       "      <td>129</td>\n",
       "    </tr>\n",
       "  </tbody>\n",
       "</table>\n",
       "</div>"
      ],
      "text/plain": [
       "     time      act_id              act_startDate     act_name  distance  \\\n",
       "97     97  3076910670  2020-02-06 13:44:50+00:00  Middagritje     740.4   \n",
       "98     98  3076910670  2020-02-06 13:44:50+00:00  Middagritje     747.6   \n",
       "99     99  3076910670  2020-02-06 13:44:50+00:00  Middagritje     755.0   \n",
       "100   100  3076910670  2020-02-06 13:44:50+00:00  Middagritje     762.9   \n",
       "101   101  3076910670  2020-02-06 13:44:50+00:00  Middagritje     770.9   \n",
       "\n",
       "                    latlng  altitude  velocity_smooth  moving  grade_smooth  \\\n",
       "97   [52.545855, 4.670854]      -0.4              7.5    True           0.0   \n",
       "98   [52.545794, 4.670888]      -0.4              7.4    True           0.7   \n",
       "99   [52.545742, 4.670961]      -0.4              7.3    True           1.3   \n",
       "100  [52.545703, 4.671058]      -0.2              7.3    True           1.3   \n",
       "101  [52.545668, 4.671161]       0.0              7.4    True           1.3   \n",
       "\n",
       "     temp  watts  cadence  heartrate  \n",
       "97     15    175       92        130  \n",
       "98     15    174       92        129  \n",
       "99     15    138       94        128  \n",
       "100    15    123       91        128  \n",
       "101    15    114       90        129  "
      ]
     },
     "execution_count": 7,
     "metadata": {},
     "output_type": "execute_result"
    }
   ],
   "source": [
    "f = '3076910670.csv'\n",
    "df = pd.read_csv(f)\n",
    "df.iloc[97:102,:]"
   ]
  },
  {
   "cell_type": "code",
   "execution_count": 58,
   "metadata": {},
   "outputs": [],
   "source": [
    "# export \n",
    "def interpolate(df):    \n",
    "    df.index = df['time']\n",
    "    df2 = df.reindex(np.arange(df.index[-1]))\n",
    "    df2 = df2.interpolate()\n",
    "    return df2"
   ]
  },
  {
   "cell_type": "code",
   "execution_count": 59,
   "metadata": {},
   "outputs": [
    {
     "data": {
      "text/html": [
       "<div>\n",
       "<style scoped>\n",
       "    .dataframe tbody tr th:only-of-type {\n",
       "        vertical-align: middle;\n",
       "    }\n",
       "\n",
       "    .dataframe tbody tr th {\n",
       "        vertical-align: top;\n",
       "    }\n",
       "\n",
       "    .dataframe thead th {\n",
       "        text-align: right;\n",
       "    }\n",
       "</style>\n",
       "<table border=\"1\" class=\"dataframe\">\n",
       "  <thead>\n",
       "    <tr style=\"text-align: right;\">\n",
       "      <th></th>\n",
       "      <th>time</th>\n",
       "      <th>act_id</th>\n",
       "      <th>act_startDate</th>\n",
       "      <th>act_name</th>\n",
       "      <th>distance</th>\n",
       "      <th>latlng</th>\n",
       "      <th>altitude</th>\n",
       "      <th>velocity_smooth</th>\n",
       "      <th>moving</th>\n",
       "      <th>grade_smooth</th>\n",
       "      <th>temp</th>\n",
       "      <th>watts</th>\n",
       "      <th>cadence</th>\n",
       "      <th>heartrate</th>\n",
       "    </tr>\n",
       "  </thead>\n",
       "  <tbody>\n",
       "    <tr>\n",
       "      <th>97</th>\n",
       "      <td>97</td>\n",
       "      <td>3076910670</td>\n",
       "      <td>2020-02-06 13:44:50+00:00</td>\n",
       "      <td>Middagritje</td>\n",
       "      <td>740.4</td>\n",
       "      <td>[52.545855, 4.670854]</td>\n",
       "      <td>-0.4</td>\n",
       "      <td>7.5</td>\n",
       "      <td>True</td>\n",
       "      <td>0.0</td>\n",
       "      <td>15</td>\n",
       "      <td>175</td>\n",
       "      <td>92</td>\n",
       "      <td>130</td>\n",
       "    </tr>\n",
       "    <tr>\n",
       "      <th>98</th>\n",
       "      <td>98</td>\n",
       "      <td>3076910670</td>\n",
       "      <td>2020-02-06 13:44:50+00:00</td>\n",
       "      <td>Middagritje</td>\n",
       "      <td>747.6</td>\n",
       "      <td>[52.545794, 4.670888]</td>\n",
       "      <td>-0.4</td>\n",
       "      <td>7.4</td>\n",
       "      <td>True</td>\n",
       "      <td>0.7</td>\n",
       "      <td>15</td>\n",
       "      <td>174</td>\n",
       "      <td>92</td>\n",
       "      <td>129</td>\n",
       "    </tr>\n",
       "    <tr>\n",
       "      <th>99</th>\n",
       "      <td>99</td>\n",
       "      <td>3076910670</td>\n",
       "      <td>2020-02-06 13:44:50+00:00</td>\n",
       "      <td>Middagritje</td>\n",
       "      <td>755.0</td>\n",
       "      <td>[52.545742, 4.670961]</td>\n",
       "      <td>-0.4</td>\n",
       "      <td>7.3</td>\n",
       "      <td>True</td>\n",
       "      <td>1.3</td>\n",
       "      <td>15</td>\n",
       "      <td>138</td>\n",
       "      <td>94</td>\n",
       "      <td>128</td>\n",
       "    </tr>\n",
       "    <tr>\n",
       "      <th>101</th>\n",
       "      <td>101</td>\n",
       "      <td>3076910670</td>\n",
       "      <td>2020-02-06 13:44:50+00:00</td>\n",
       "      <td>Middagritje</td>\n",
       "      <td>770.9</td>\n",
       "      <td>[52.545668, 4.671161]</td>\n",
       "      <td>0.0</td>\n",
       "      <td>7.4</td>\n",
       "      <td>True</td>\n",
       "      <td>1.3</td>\n",
       "      <td>15</td>\n",
       "      <td>114</td>\n",
       "      <td>90</td>\n",
       "      <td>129</td>\n",
       "    </tr>\n",
       "    <tr>\n",
       "      <th>102</th>\n",
       "      <td>102</td>\n",
       "      <td>3076910670</td>\n",
       "      <td>2020-02-06 13:44:50+00:00</td>\n",
       "      <td>Middagritje</td>\n",
       "      <td>778.8</td>\n",
       "      <td>[52.545637, 4.671266]</td>\n",
       "      <td>0.0</td>\n",
       "      <td>7.7</td>\n",
       "      <td>True</td>\n",
       "      <td>1.3</td>\n",
       "      <td>15</td>\n",
       "      <td>116</td>\n",
       "      <td>91</td>\n",
       "      <td>129</td>\n",
       "    </tr>\n",
       "  </tbody>\n",
       "</table>\n",
       "</div>"
      ],
      "text/plain": [
       "     time      act_id              act_startDate     act_name  distance  \\\n",
       "97     97  3076910670  2020-02-06 13:44:50+00:00  Middagritje     740.4   \n",
       "98     98  3076910670  2020-02-06 13:44:50+00:00  Middagritje     747.6   \n",
       "99     99  3076910670  2020-02-06 13:44:50+00:00  Middagritje     755.0   \n",
       "101   101  3076910670  2020-02-06 13:44:50+00:00  Middagritje     770.9   \n",
       "102   102  3076910670  2020-02-06 13:44:50+00:00  Middagritje     778.8   \n",
       "\n",
       "                    latlng  altitude  velocity_smooth  moving  grade_smooth  \\\n",
       "97   [52.545855, 4.670854]      -0.4              7.5    True           0.0   \n",
       "98   [52.545794, 4.670888]      -0.4              7.4    True           0.7   \n",
       "99   [52.545742, 4.670961]      -0.4              7.3    True           1.3   \n",
       "101  [52.545668, 4.671161]       0.0              7.4    True           1.3   \n",
       "102  [52.545637, 4.671266]       0.0              7.7    True           1.3   \n",
       "\n",
       "     temp  watts  cadence  heartrate  \n",
       "97     15    175       92        130  \n",
       "98     15    174       92        129  \n",
       "99     15    138       94        128  \n",
       "101    15    114       90        129  \n",
       "102    15    116       91        129  "
      ]
     },
     "execution_count": 59,
     "metadata": {},
     "output_type": "execute_result"
    }
   ],
   "source": [
    "f = '3076910670.csv'\n",
    "df2 = pd.read_csv(f)\n",
    "df2 = df2.drop(100)\n",
    "df2.iloc[97:102,:]"
   ]
  },
  {
   "cell_type": "code",
   "execution_count": 63,
   "metadata": {},
   "outputs": [
    {
     "data": {
      "text/html": [
       "<div>\n",
       "<style scoped>\n",
       "    .dataframe tbody tr th:only-of-type {\n",
       "        vertical-align: middle;\n",
       "    }\n",
       "\n",
       "    .dataframe tbody tr th {\n",
       "        vertical-align: top;\n",
       "    }\n",
       "\n",
       "    .dataframe thead th {\n",
       "        text-align: right;\n",
       "    }\n",
       "</style>\n",
       "<table border=\"1\" class=\"dataframe\">\n",
       "  <thead>\n",
       "    <tr style=\"text-align: right;\">\n",
       "      <th></th>\n",
       "      <th>time</th>\n",
       "      <th>act_id</th>\n",
       "      <th>act_startDate</th>\n",
       "      <th>act_name</th>\n",
       "      <th>distance</th>\n",
       "      <th>latlng</th>\n",
       "      <th>altitude</th>\n",
       "      <th>velocity_smooth</th>\n",
       "      <th>moving</th>\n",
       "      <th>grade_smooth</th>\n",
       "      <th>temp</th>\n",
       "      <th>watts</th>\n",
       "      <th>cadence</th>\n",
       "      <th>heartrate</th>\n",
       "    </tr>\n",
       "    <tr>\n",
       "      <th>time</th>\n",
       "      <th></th>\n",
       "      <th></th>\n",
       "      <th></th>\n",
       "      <th></th>\n",
       "      <th></th>\n",
       "      <th></th>\n",
       "      <th></th>\n",
       "      <th></th>\n",
       "      <th></th>\n",
       "      <th></th>\n",
       "      <th></th>\n",
       "      <th></th>\n",
       "      <th></th>\n",
       "      <th></th>\n",
       "    </tr>\n",
       "  </thead>\n",
       "  <tbody>\n",
       "    <tr>\n",
       "      <th>97.0</th>\n",
       "      <td>97.0</td>\n",
       "      <td>3.076911e+09</td>\n",
       "      <td>2020-02-06 13:44:50+00:00</td>\n",
       "      <td>Middagritje</td>\n",
       "      <td>740.40</td>\n",
       "      <td>[52.545855, 4.670854]</td>\n",
       "      <td>-0.4</td>\n",
       "      <td>7.50</td>\n",
       "      <td>True</td>\n",
       "      <td>0.0</td>\n",
       "      <td>15.0</td>\n",
       "      <td>175.0</td>\n",
       "      <td>92.0</td>\n",
       "      <td>130.0</td>\n",
       "    </tr>\n",
       "    <tr>\n",
       "      <th>98.0</th>\n",
       "      <td>98.0</td>\n",
       "      <td>3.076911e+09</td>\n",
       "      <td>2020-02-06 13:44:50+00:00</td>\n",
       "      <td>Middagritje</td>\n",
       "      <td>747.60</td>\n",
       "      <td>[52.545794, 4.670888]</td>\n",
       "      <td>-0.4</td>\n",
       "      <td>7.40</td>\n",
       "      <td>True</td>\n",
       "      <td>0.7</td>\n",
       "      <td>15.0</td>\n",
       "      <td>174.0</td>\n",
       "      <td>92.0</td>\n",
       "      <td>129.0</td>\n",
       "    </tr>\n",
       "    <tr>\n",
       "      <th>99.0</th>\n",
       "      <td>99.0</td>\n",
       "      <td>3.076911e+09</td>\n",
       "      <td>2020-02-06 13:44:50+00:00</td>\n",
       "      <td>Middagritje</td>\n",
       "      <td>755.00</td>\n",
       "      <td>[52.545742, 4.670961]</td>\n",
       "      <td>-0.4</td>\n",
       "      <td>7.30</td>\n",
       "      <td>True</td>\n",
       "      <td>1.3</td>\n",
       "      <td>15.0</td>\n",
       "      <td>138.0</td>\n",
       "      <td>94.0</td>\n",
       "      <td>128.0</td>\n",
       "    </tr>\n",
       "    <tr>\n",
       "      <th>100.0</th>\n",
       "      <td>100.0</td>\n",
       "      <td>3.076911e+09</td>\n",
       "      <td>NaN</td>\n",
       "      <td>NaN</td>\n",
       "      <td>762.95</td>\n",
       "      <td>NaN</td>\n",
       "      <td>-0.2</td>\n",
       "      <td>7.35</td>\n",
       "      <td>NaN</td>\n",
       "      <td>1.3</td>\n",
       "      <td>15.0</td>\n",
       "      <td>126.0</td>\n",
       "      <td>92.0</td>\n",
       "      <td>128.5</td>\n",
       "    </tr>\n",
       "    <tr>\n",
       "      <th>101.0</th>\n",
       "      <td>101.0</td>\n",
       "      <td>3.076911e+09</td>\n",
       "      <td>2020-02-06 13:44:50+00:00</td>\n",
       "      <td>Middagritje</td>\n",
       "      <td>770.90</td>\n",
       "      <td>[52.545668, 4.671161]</td>\n",
       "      <td>0.0</td>\n",
       "      <td>7.40</td>\n",
       "      <td>True</td>\n",
       "      <td>1.3</td>\n",
       "      <td>15.0</td>\n",
       "      <td>114.0</td>\n",
       "      <td>90.0</td>\n",
       "      <td>129.0</td>\n",
       "    </tr>\n",
       "  </tbody>\n",
       "</table>\n",
       "</div>"
      ],
      "text/plain": [
       "        time        act_id              act_startDate     act_name  distance  \\\n",
       "time                                                                           \n",
       "97.0    97.0  3.076911e+09  2020-02-06 13:44:50+00:00  Middagritje    740.40   \n",
       "98.0    98.0  3.076911e+09  2020-02-06 13:44:50+00:00  Middagritje    747.60   \n",
       "99.0    99.0  3.076911e+09  2020-02-06 13:44:50+00:00  Middagritje    755.00   \n",
       "100.0  100.0  3.076911e+09                        NaN          NaN    762.95   \n",
       "101.0  101.0  3.076911e+09  2020-02-06 13:44:50+00:00  Middagritje    770.90   \n",
       "\n",
       "                      latlng  altitude  velocity_smooth moving  grade_smooth  \\\n",
       "time                                                                           \n",
       "97.0   [52.545855, 4.670854]      -0.4             7.50   True           0.0   \n",
       "98.0   [52.545794, 4.670888]      -0.4             7.40   True           0.7   \n",
       "99.0   [52.545742, 4.670961]      -0.4             7.30   True           1.3   \n",
       "100.0                    NaN      -0.2             7.35    NaN           1.3   \n",
       "101.0  [52.545668, 4.671161]       0.0             7.40   True           1.3   \n",
       "\n",
       "       temp  watts  cadence  heartrate  \n",
       "time                                    \n",
       "97.0   15.0  175.0     92.0      130.0  \n",
       "98.0   15.0  174.0     92.0      129.0  \n",
       "99.0   15.0  138.0     94.0      128.0  \n",
       "100.0  15.0  126.0     92.0      128.5  \n",
       "101.0  15.0  114.0     90.0      129.0  "
      ]
     },
     "execution_count": 63,
     "metadata": {},
     "output_type": "execute_result"
    }
   ],
   "source": [
    "df2 = interpolate(df2)\n",
    "test_eq(df2['velocity_smooth'].iloc[100],7.35)\n",
    "df2.iloc[97:102,:]"
   ]
  },
  {
   "cell_type": "code",
   "execution_count": 8,
   "metadata": {},
   "outputs": [],
   "source": [
    "# export\n",
    "def moving_average(time_series, window_len):\n",
    "    \"\"\"Calculates the moving average of an unevenly spaced time series.\n",
    "\n",
    "    This moving average implementation weights each value by the time it remained\n",
    "    unchanged, which conceptually matches smart recording on GPS devices: a sample\n",
    "    is taken when some value changes sufficiently, so before a new sample is taken\n",
    "    the previous one is assumed to be more or less constant.\n",
    "\n",
    "    The term \"area\" below means a sum of time-weighted values.\n",
    "\n",
    "    This implementation follows the SMA_last algorithm proposed\n",
    "    in (Eckner, 2017) (see README for citation).\n",
    "\n",
    "    Args:\n",
    "    time_series: A pandas.Series of the values to average,\n",
    "                 indexed with timestamps.\n",
    "    window_len: The size of the moving average window, in seconds.\n",
    "\n",
    "    Returns:\n",
    "    A numpy array of length len(time_series) containing the\n",
    "    moving average values\n",
    "    \"\"\"\n",
    "    # Re-index the time series with duration in seconds from the first value\n",
    "#     time_series.index = (\n",
    "#       (time_series.index\n",
    "#        - time_series.index[0]) / np.timedelta64(1, 's')).astype('int')\n",
    "\n",
    "    window_area = time_series.iloc[0] * window_len\n",
    "\n",
    "    # It may not always be possible to construct a window of length exactly equal\n",
    "    # to window_len using timestamps present in the data. To handle this, the left\n",
    "    # side of the window is allowed to fall between timestamps (the right side is\n",
    "    # always fixed to a timestamp in the data). Therefore we need to separately\n",
    "    # compute the area of the inter-timestamp region on the left side of the\n",
    "    # window so that it can be added to the window area. left_area is that value.\n",
    "    left_area = window_area\n",
    "\n",
    "    out = np.zeros(len(time_series))\n",
    "    out[0] = time_series.iloc[0]\n",
    "\n",
    "    # i is the left side of the window and j is the right\n",
    "    i = 0\n",
    "    for j in range(1, len(time_series)):\n",
    "        # Remove the last iteration's left_area as a new right window bound may\n",
    "        # change the left_area required in this iteration\n",
    "        window_area -= left_area\n",
    "\n",
    "        # Expand window to the right\n",
    "        window_area += time_series.iloc[j-1] * (time_series.index[j]\n",
    "                                                - time_series.index[j-1])\n",
    "\n",
    "        # Shrink window from the left if expanding to the right has created too\n",
    "        # large a window. new_left_time may fall between timestamps present in the\n",
    "        # data, which is fine, since that's handled by left_area.\n",
    "        new_left_time = time_series.index[j] - window_len\n",
    "        while time_series.index[i] < new_left_time:\n",
    "            window_area -= time_series.iloc[i] * (time_series.index[i+1]\n",
    "                                                - time_series.index[i])\n",
    "            i += 1\n",
    "\n",
    "        # Add left side inter-timestamp area to window\n",
    "        left_area = time_series.iloc[max(0, i - 1)] * (time_series.index[i]\n",
    "                                                       - new_left_time)\n",
    "        window_area += left_area\n",
    "\n",
    "        out[j] = window_area / window_len\n",
    "\n",
    "    return out"
   ]
  },
  {
   "cell_type": "code",
   "execution_count": 9,
   "metadata": {},
   "outputs": [],
   "source": [
    "def norm_power(p):\n",
    "    return np.sqrt(np.sqrt(np.mean(moving_average(p, 30) ** 4)))"
   ]
  },
  {
   "cell_type": "code",
   "execution_count": 10,
   "metadata": {},
   "outputs": [],
   "source": [
    "df.index = df['time'].astype('float')\n",
    "test_close(norm_power(df.watts),207,1)"
   ]
  },
  {
   "cell_type": "code",
   "execution_count": 11,
   "metadata": {},
   "outputs": [],
   "source": [
    "test_close(norm_power(df.heartrate),134,1)"
   ]
  },
  {
   "cell_type": "code",
   "execution_count": 12,
   "metadata": {},
   "outputs": [],
   "source": [
    "# export\n",
    "def training_impulse(norm_p, total_time, ftp):\n",
    "    intesity = norm_p/float(ftp)\n",
    "    return (total_time*norm_p * intesity)/(float(ftp)*3600.) *100\n",
    "    "
   ]
  },
  {
   "cell_type": "code",
   "execution_count": 13,
   "metadata": {},
   "outputs": [
    {
     "data": {
      "text/plain": [
       "61.0680736825466"
      ]
     },
     "execution_count": 13,
     "metadata": {},
     "output_type": "execute_result"
    }
   ],
   "source": [
    "df.index = df['time'].astype('float')\n",
    "test_close(norm_power(df.watts),207,1)\n",
    "training_impulse(norm_power(df.watts), sum(df['moving']), 340)"
   ]
  },
  {
   "cell_type": "code",
   "execution_count": 146,
   "metadata": {},
   "outputs": [],
   "source": [
    "# export\n",
    "class Zones():\n",
    "    def __init__(self,max_hr, zones = [.6,.7,.79,.85,.9, 1]):\n",
    "        self.zones, self.max_hr = zones, max_hr\n",
    "        \n",
    "    def __repr__(self,):\n",
    "        res = {}\n",
    "        for k,start,end in zip(range(1,6),self.zones[:-1],self.zones[1:]):\n",
    "            res[k] = (start*self.max_hr,end*self.max_hr)\n",
    "        return str(res)\n",
    "    \n",
    "    def __str__(self):\n",
    "        return self.__repr__()\n",
    "    \n",
    "    def __call__(self, o):\n",
    "        for i, v in enumerate(self.zones):\n",
    "            if o < v*self.max_hr:\n",
    "                return i       \n",
    "    "
   ]
  },
  {
   "cell_type": "code",
   "execution_count": 152,
   "metadata": {},
   "outputs": [],
   "source": [
    "z =Zones(195)\n",
    "test_eq(str(z),str({1: (117.0, 136.5), 2: (136.5, 154.05), 3: (154.05, 165.75), 4: (165.75, 175.5), 5: (175.5, 195)} ))\n",
    "test_eq(z(175),4)"
   ]
  },
  {
   "cell_type": "code",
   "execution_count": 160,
   "metadata": {},
   "outputs": [],
   "source": [
    "# export\n",
    "def training_impulse_hr(hr, max_hr):\n",
    "    z = Zones(max_hr)\n",
    "    norm_hr = pd.Series((moving_average(hr, 15))).apply(z)\n",
    "    norm_hr.plot()\n",
    "    return (np.sum(norm_hr) ) / (4*3600)*100"
   ]
  },
  {
   "cell_type": "code",
   "execution_count": 161,
   "metadata": {},
   "outputs": [
    {
     "data": {
      "image/png": "[encoded data removed]",
      "text/plain": [
       "<Figure size 432x288 with 1 Axes>"
      ]
     },
     "metadata": {
      "needs_background": "light"
     },
     "output_type": "display_data"
    }
   ],
   "source": [
    "test_close(training_impulse_hr(df.heartrate, 195),60, 1)\n",
    "test_eq(training_impulse_hr(pd.Series([175]*3600), 195),100)"
   ]
  },
  {
   "cell_type": "code",
   "execution_count": 162,
   "metadata": {},
   "outputs": [],
   "source": [
    "# export\n",
    "def parse_tss(df, threshold = 179, ftp = 339):\n",
    "    df.index = df['time']\n",
    "    df.reindex(np.arange(df.index[-1]))\n",
    "    if 'watts' in list(df.columns):\n",
    "        df['ftp'] = df['watts']\n",
    "        print('watts')\n",
    "    elif 'heartrate' in list(df.columns):\n",
    "        df['ftp'] = (df['heartrate'])/ (threshold)\n",
    "    else:\n",
    "        print(df.columns)\n",
    "    return df\n"
   ]
  },
  {
   "cell_type": "code",
   "execution_count": 27,
   "metadata": {},
   "outputs": [
    {
     "data": {
      "text/plain": [
       "<seaborn.axisgrid.FacetGrid at 0x7fc5c4ac9320>"
      ]
     },
     "execution_count": 27,
     "metadata": {},
     "output_type": "execute_result"
    },
    {
     "data": {
      "image/png": "[encoded data removed]",
      "text/plain": [
       "<Figure size 360x360 with 1 Axes>"
      ]
     },
     "metadata": {
      "needs_background": "light"
     },
     "output_type": "display_data"
    }
   ],
   "source": [
    "sns.relplot(x='time',y='watts',data = df.iloc[:300])"
   ]
  },
  {
   "cell_type": "code",
   "execution_count": 5,
   "metadata": {},
   "outputs": [
    {
     "ename": "NameError",
     "evalue": "name 'pd' is not defined",
     "output_type": "error",
     "traceback": [
      "\u001b[0;31m---------------------------------------------------------------------------\u001b[0m",
      "\u001b[0;31mNameError\u001b[0m                                 Traceback (most recent call last)",
      "\u001b[0;32m<ipython-input-5-3c7bd2f7d383>\u001b[0m in \u001b[0;36m<module>\u001b[0;34m\u001b[0m\n\u001b[1;32m      1\u001b[0m \u001b[0;31m# df = pd.read_csv(fs[3])\u001b[0m\u001b[0;34m\u001b[0m\u001b[0;34m\u001b[0m\u001b[0;34m\u001b[0m\u001b[0m\n\u001b[1;32m      2\u001b[0m \u001b[0;32mimport\u001b[0m \u001b[0mnumpy\u001b[0m \u001b[0;32mas\u001b[0m \u001b[0mnp\u001b[0m\u001b[0;34m\u001b[0m\u001b[0;34m\u001b[0m\u001b[0m\n\u001b[0;32m----> 3\u001b[0;31m \u001b[0mdf\u001b[0m \u001b[0;34m=\u001b[0m \u001b[0mpd\u001b[0m\u001b[0;34m.\u001b[0m\u001b[0mDataFrame\u001b[0m\u001b[0;34m(\u001b[0m\u001b[0;34m{\u001b[0m\u001b[0;34m'watts'\u001b[0m\u001b[0;34m:\u001b[0m\u001b[0;34m[\u001b[0m\u001b[0;36m339\u001b[0m\u001b[0;34m]\u001b[0m\u001b[0;34m*\u001b[0m\u001b[0;36m3600\u001b[0m\u001b[0;34m,\u001b[0m \u001b[0;34m'time'\u001b[0m\u001b[0;34m:\u001b[0m \u001b[0mnp\u001b[0m\u001b[0;34m.\u001b[0m\u001b[0marange\u001b[0m\u001b[0;34m(\u001b[0m\u001b[0;36m3600\u001b[0m\u001b[0;34m)\u001b[0m\u001b[0;34m}\u001b[0m\u001b[0;34m)\u001b[0m\u001b[0;34m\u001b[0m\u001b[0;34m\u001b[0m\u001b[0m\n\u001b[0m\u001b[1;32m      4\u001b[0m \u001b[0mdf\u001b[0m \u001b[0;34m=\u001b[0m \u001b[0mparse_tss\u001b[0m\u001b[0;34m(\u001b[0m\u001b[0mdf\u001b[0m\u001b[0;34m)\u001b[0m\u001b[0;34m\u001b[0m\u001b[0;34m\u001b[0m\u001b[0m\n\u001b[1;32m      5\u001b[0m \u001b[0mtest_close\u001b[0m\u001b[0;34m(\u001b[0m\u001b[0mdf\u001b[0m\u001b[0;34m[\u001b[0m\u001b[0;34m'ftp'\u001b[0m\u001b[0;34m]\u001b[0m\u001b[0;34m.\u001b[0m\u001b[0mmean\u001b[0m\u001b[0;34m(\u001b[0m\u001b[0;34m)\u001b[0m\u001b[0;34m*\u001b[0m \u001b[0;34m(\u001b[0m\u001b[0mdf\u001b[0m\u001b[0;34m.\u001b[0m\u001b[0mloc\u001b[0m\u001b[0;34m[\u001b[0m\u001b[0;34m:\u001b[0m\u001b[0;34m,\u001b[0m \u001b[0;34m'time'\u001b[0m\u001b[0;34m]\u001b[0m\u001b[0;34m.\u001b[0m\u001b[0miloc\u001b[0m\u001b[0;34m[\u001b[0m\u001b[0;34m-\u001b[0m\u001b[0;36m1\u001b[0m\u001b[0;34m]\u001b[0m\u001b[0;34m/\u001b[0m\u001b[0;36m60\u001b[0m\u001b[0;34m/\u001b[0m\u001b[0;36m60\u001b[0m\u001b[0;34m)\u001b[0m\u001b[0;34m*\u001b[0m\u001b[0;36m100\u001b[0m\u001b[0;34m,\u001b[0m\u001b[0;36m100\u001b[0m\u001b[0;34m,\u001b[0m\u001b[0;36m0.3\u001b[0m\u001b[0;34m)\u001b[0m\u001b[0;34m\u001b[0m\u001b[0;34m\u001b[0m\u001b[0m\n",
      "\u001b[0;31mNameError\u001b[0m: name 'pd' is not defined"
     ]
    }
   ],
   "source": [
    "# df = pd.read_csv(fs[3])\n",
    "import numpy as np\n",
    "df = pd.DataFrame({'watts':[339]*3600, 'time': np.arange(3600)})\n",
    "df = parse_tss(df)\n",
    "test_close(df['ftp'].mean()* (df.loc[:, 'time'].iloc[-1]/60/60)*100,100,0.3)"
   ]
  },
  {
   "cell_type": "code",
   "execution_count": 216,
   "metadata": {},
   "outputs": [],
   "source": [
    "df = pd.DataFrame({'heartrate':[179]*3600, 'time': np.arange(3600)})\n",
    "df = parse_tss(df)\n",
    "test_close(df['ftp'].mean()* (df.loc[:,'time'].iloc[-1]/60/60)*100,100,0.3)"
   ]
  },
  {
   "cell_type": "code",
   "execution_count": 217,
   "metadata": {},
   "outputs": [
    {
     "name": "stdout",
     "output_type": "stream",
     "text": [
      "watts\n"
     ]
    },
    {
     "data": {
      "text/plain": [
       "(188.38387451817655, 173.16666666666666, 110, 1)"
      ]
     },
     "execution_count": 217,
     "metadata": {},
     "output_type": "execute_result"
    }
   ],
   "source": [
    "df = pd.read_csv(f)\n",
    "df = parse_tss(df)\n",
    "(df['ftp'].mean()*340, (df.loc[:,'time'].iloc[-1]/60/60)*100,110,1)"
   ]
  },
  {
   "cell_type": "code",
   "execution_count": 203,
   "metadata": {},
   "outputs": [],
   "source": [
    "import seaborn as sns"
   ]
  },
  {
   "cell_type": "code",
   "execution_count": 204,
   "metadata": {},
   "outputs": [],
   "source": [
    "df['diff'] = df['time'] - df['time'].shift(-1)"
   ]
  },
  {
   "cell_type": "code",
   "execution_count": 205,
   "metadata": {},
   "outputs": [
    {
     "ename": "TypeError",
     "evalue": "distplot() got an unexpected keyword argument 'data'",
     "output_type": "error",
     "traceback": [
      "\u001b[0;31m---------------------------------------------------------------------------\u001b[0m",
      "\u001b[0;31mTypeError\u001b[0m                                 Traceback (most recent call last)",
      "\u001b[0;32m<ipython-input-205-5b5429760897>\u001b[0m in \u001b[0;36m<module>\u001b[0;34m\u001b[0m\n\u001b[0;32m----> 1\u001b[0;31m \u001b[0msns\u001b[0m\u001b[0;34m.\u001b[0m\u001b[0mdistplot\u001b[0m\u001b[0;34m(\u001b[0m\u001b[0;34m'diff'\u001b[0m\u001b[0;34m,\u001b[0m \u001b[0mdata\u001b[0m\u001b[0;34m=\u001b[0m\u001b[0mdf\u001b[0m\u001b[0;34m)\u001b[0m\u001b[0;34m\u001b[0m\u001b[0;34m\u001b[0m\u001b[0m\n\u001b[0m",
      "\u001b[0;31mTypeError\u001b[0m: distplot() got an unexpected keyword argument 'data'"
     ]
    }
   ],
   "source": [
    "sns.distplot('diff', data=df)"
   ]
  },
  {
   "cell_type": "code",
   "execution_count": 206,
   "metadata": {},
   "outputs": [
    {
     "name": "stdout",
     "output_type": "stream",
     "text": [
      "132.4288327844859\n"
     ]
    },
    {
     "data": {
      "text/plain": [
       "<matplotlib.axes._subplots.AxesSubplot at 0x7fecd1721198>"
      ]
     },
     "execution_count": 206,
     "metadata": {},
     "output_type": "execute_result"
    },
    {
     "data": {
      "image/png": "[encoded data removed]",
      "text/plain": [
       "<Figure size 432x288 with 1 Axes>"
      ]
     },
     "metadata": {
      "needs_background": "light"
     },
     "output_type": "display_data"
    }
   ],
   "source": [
    "\n",
    "df.index = df['time']\n",
    "df2 = df.reindex(np.arange(df.index[-1]))\n",
    "df2.interpolate()\n",
    "print(df2['heartrate'].mean())\n",
    "sns.scatterplot(x='time',y='heartrate',data = df2)"
   ]
  },
  {
   "cell_type": "code",
   "execution_count": 209,
   "metadata": {},
   "outputs": [
    {
     "data": {
      "text/plain": [
       "(0.7397494002689083, 2.6758333333333337, 110, 1)"
      ]
     },
     "execution_count": 209,
     "metadata": {},
     "output_type": "execute_result"
    }
   ],
   "source": [
    "\n",
    "df = parse_tss(df)\n",
    "(df['ftp'].mean(), (df.loc[:,'time'].iloc[-1]/60/60),110,1)"
   ]
  },
  {
   "cell_type": "code",
   "execution_count": null,
   "metadata": {},
   "outputs": [],
   "source": [
    "\n",
    "    #Calculate the timestamp column\n",
    "    df_total = df_total.reset_index(level=0)\n",
    "    df_total['timestamp'] = pd.to_datetime(map(calctime, df_total['time'], df_total['level_0'])).to_pydatetime()\n",
    "\n",
    "    #Split out lat and long columns\n",
    "    df_total['lat'] = map(split_lat, (df_total['latlng']))\n",
    "    df_total['long'] = map(split_long, (df_total['latlng']))\n",
    "\n",
    "    #Index by startdate and timestamp, and drop arbitrary columns\n",
    "    df_total = df_total.set_index(['act_startDate','timestamp'])\n",
    "    df_total.drop(['latlng', 'level_0'], axis=1, inplace=True)\n",
    "\n",
    "    print ('script complete!')"
   ]
  }
 ],
 "metadata": {
  "kernelspec": {
   "display_name": "env37",
   "language": "python",
   "name": "env37"
  },
  "language_info": {
   "codemirror_mode": {
    "name": "ipython",
    "version": 3
   },
   "file_extension": ".py",
   "mimetype": "text/x-python",
   "name": "python",
   "nbconvert_exporter": "python",
   "pygments_lexer": "ipython3",
   "version": "3.7.4"
  }
 },
 "nbformat": 4,
 "nbformat_minor": 4
}
