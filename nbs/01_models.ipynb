{
 "cells": [
  {
   "cell_type": "code",
   "execution_count": 100,
   "metadata": {},
   "outputs": [],
   "source": [
    "# default_exp models"
   ]
  },
  {
   "cell_type": "markdown",
   "metadata": {},
   "source": [
    "# models\n",
    "\n",
    "> API details."
   ]
  },
  {
   "cell_type": "code",
   "execution_count": 89,
   "metadata": {},
   "outputs": [],
   "source": [
    "#hide\n",
    "from nbdev.showdoc import *\n",
    "from fastcore.test import *"
   ]
  },
  {
   "cell_type": "code",
   "execution_count": 90,
   "metadata": {},
   "outputs": [],
   "source": [
    "# export\n",
    "import json"
   ]
  },
  {
   "cell_type": "code",
   "execution_count": 91,
   "metadata": {},
   "outputs": [],
   "source": [
    "# Global Variables - put your data in the file 'client.secret' and separate the fields with a comma!\n",
    "client_id, secret = open(\"../client.secret\").read().strip().split(\",\")"
   ]
  },
  {
   "cell_type": "code",
   "execution_count": 92,
   "metadata": {},
   "outputs": [],
   "source": [
    "# export\n",
    "import stravalib\n",
    "import urllib.parse\n",
    "import webbrowser\n",
    "import os\n",
    "import pandas as pd\n",
    "import sys\n",
    "from fastcore.utils import *\n",
    "import time"
   ]
  },
  {
   "cell_type": "code",
   "execution_count": 107,
   "metadata": {},
   "outputs": [],
   "source": [
    "# export\n",
    "# from strava_overview.auth import get_access_token, AuthToken\n",
    "class Handel:\n",
    "    def __init__(self, auth = None):\n",
    "        self.auth = ifnone(auth, AuthToken())        \n",
    "        if not self.auth.exists:\n",
    "            raise FileNotFoundError()\n",
    "        self.client = stravalib.client.Client()\n",
    "        self.client.access_token = get_access_token() # TODO make it work with new system\n",
    "        \n",
    "        self.athlete = self.client.get_athlete()\n",
    "        print(f\"Welcome {self.athlete.firstname} {self.athlete.lastname}\")"
   ]
  },
  {
   "cell_type": "code",
   "execution_count": 94,
   "metadata": {},
   "outputs": [
    {
     "name": "stdout",
     "output_type": "stream",
     "text": [
      "Welcome Tako Tabak\n"
     ]
    },
    {
     "data": {
      "text/plain": [
       "'Welcome Tako Tabak'"
      ]
     },
     "execution_count": 94,
     "metadata": {},
     "output_type": "execute_result"
    }
   ],
   "source": [
    "h = Handel()\n",
    "f\"Welcome {h.athlete.firstname} {h.athlete.lastname}\""
   ]
  },
  {
   "cell_type": "code",
   "execution_count": 95,
   "metadata": {},
   "outputs": [
    {
     "name": "stdout",
     "output_type": "stream",
     "text": [
      "Welcome Tako Tabak\n"
     ]
    }
   ],
   "source": [
    "from strava_overview.to_csv import *\n",
    "h = Handel()"
   ]
  },
  {
   "cell_type": "code",
   "execution_count": 96,
   "metadata": {},
   "outputs": [
    {
     "data": {
      "text/plain": [
       "5058582"
      ]
     },
     "execution_count": 96,
     "metadata": {},
     "output_type": "execute_result"
    }
   ],
   "source": [
    "h.athlete.id"
   ]
  },
  {
   "cell_type": "code",
   "execution_count": 97,
   "metadata": {},
   "outputs": [],
   "source": [
    "# export\n",
    "from pynamodb.models import Model\n",
    "from pynamodb.attributes import (\n",
    "    UnicodeAttribute, NumberAttribute, UnicodeSetAttribute, UTCDateTimeAttribute, BooleanAttribute, MapAttribute, ListAttribute,\n",
    ")"
   ]
  },
  {
   "cell_type": "code",
   "execution_count": 106,
   "metadata": {},
   "outputs": [],
   "source": [
    "# export\n",
    "from strava_overview.s3 import *\n",
    "\n",
    "types = [\n",
    "            \"time\",\n",
    "            \"distance\",\n",
    "            \"latlng\",\n",
    "            \"altitude\",\n",
    "            \"velocity_smooth\",\n",
    "            \"moving\",\n",
    "            \"grade_smooth\",\n",
    "            \"temp\",\n",
    "            \"watts\",\n",
    "            \"cadence\",\n",
    "            \"heartrate\",\n",
    "    ]\n",
    "\n",
    "class Athlete(Model):\n",
    "    class Meta:\n",
    "        table_name = \"motionreview-athlete\"\n",
    "        region = 'eu-central-1'\n",
    "    id = NumberAttribute(hash_key=True)\n",
    "    firstname = UnicodeAttribute()\n",
    "    lastname = UnicodeAttribute()\n",
    "    profile = UnicodeAttribute()\n",
    "    sex = UnicodeAttribute()\n",
    "    max_heartrate = NumberAttribute(null=True)\n",
    "    ftp = NumberAttribute(null=True)\n",
    "    weight = NumberAttribute(null=True)\n",
    "    zones = ListAttribute(null=True)\n",
    "    password = UnicodeAttribute(null=True)\n",
    "    email = UnicodeAttribute(null=True)\n",
    "    access_token = UnicodeAttribute(null=True)\n",
    "    refresh_token = UnicodeAttribute(null=True)\n",
    "    \n",
    "    @classmethod\n",
    "    def from_stravalib(cls, athlete:stravalib.model.Athlete, **kwargs):  \n",
    "        dct = {k:athlete.__getattribute__(k) for k in 'firstname,lastname,profile,sex,max_heartrate,weight,ftp'.split(',') if (athlete.__getattribute__(k) is not None)}\n",
    "        dct.update(kwargs)\n",
    "        ath = cls(athlete.id,**dct)\n",
    "        ath.save()\n",
    "        return ath\n",
    "        \n",
    "    @classmethod\n",
    "    def authenticate(cls, sleep_time = 60):\n",
    "        client = stravalib.client.Client()\n",
    "        go_strava_auth(client)\n",
    "        tokens = Tokens()\n",
    "        i = 0\n",
    "        while i < sleep_time:\n",
    "            i+=1\n",
    "            time.sleep(1)\n",
    "            id = tokens.is_new()\n",
    "            if id:\n",
    "                return Athlete.query(int(id))\n",
    "        raise FileNotFoundError"
   ]
  },
  {
   "cell_type": "code",
   "execution_count": 21,
   "metadata": {},
   "outputs": [
    {
     "name": "stdout",
     "output_type": "stream",
     "text": [
      "{'firstname': 'Tako', 'lastname': 'Tabak', 'profile': 'https://dgalywyr863hv.cloudfront.net/pictures/athletes/5058582/3210740/4/large.jpg', 'sex': 'M'}\n"
     ]
    }
   ],
   "source": [
    "ath = Athlete.from_stravalib(h.athlete)"
   ]
  },
  {
   "cell_type": "code",
   "execution_count": 24,
   "metadata": {},
   "outputs": [],
   "source": [
    "# export\n",
    "def check_athlete(ath:stravalib.model.Athlete):\n",
    "    aths =list(Athlete.query(ath.id))\n",
    "    if len(aths) == 1:\n",
    "        return aths[0]\n",
    "    elif len(aths) == 0:\n",
    "        return Athlete.from_stravalib(ath)\n",
    "    else:\n",
    "        raise IndexError(f\"to many athlets with id {ath.id}:{aths}\")"
   ]
  },
  {
   "cell_type": "code",
   "execution_count": 27,
   "metadata": {},
   "outputs": [],
   "source": [
    "test_eq(len([check_athlete(h.athlete)]),1)"
   ]
  },
  {
   "cell_type": "code",
   "execution_count": 9,
   "metadata": {},
   "outputs": [],
   "source": [
    "# export\n",
    "def datetime_fix(start_date, days):\n",
    "    before = pd.Timestamp(start_date)\n",
    "    before = pd.Timestamp(before.year,before.month,before.day,23,59)\n",
    "    before.tz_localize('utc')\n",
    "    after = before - pd.Timedelta(days=days)\n",
    "    return before, after"
   ]
  },
  {
   "cell_type": "code",
   "execution_count": 10,
   "metadata": {},
   "outputs": [],
   "source": [
    "test_eq(datetime_fix(pd.Timestamp('2020'), 7),(pd.Timestamp('2020-01-01 23:59:00'), pd.Timestamp('2019-12-25 23:59:00'))\n",
    "       )\n",
    "test_eq(datetime_fix(pd.Timestamp('2020-03-1'), 7),(pd.Timestamp('2020-03-1 23:59:00'), pd.Timestamp('2020-02-23 23:59:00'))\n",
    "       )"
   ]
  },
  {
   "cell_type": "code",
   "execution_count": 77,
   "metadata": {},
   "outputs": [],
   "source": [
    "# export\n",
    "from strava_overview.s3 import *\n",
    "\n",
    "types = [\n",
    "            \"time\",\n",
    "            \"distance\",\n",
    "            \"latlng\",\n",
    "            \"altitude\",\n",
    "            \"velocity_smooth\",\n",
    "            \"moving\",\n",
    "            \"grade_smooth\",\n",
    "            \"temp\",\n",
    "            \"watts\",\n",
    "            \"cadence\",\n",
    "            \"heartrate\",\n",
    "    ]\n",
    "\n",
    "class Activity(Model):\n",
    "    class Meta:\n",
    "        table_name = \"motionreview-activity\"\n",
    "        region = 'eu-central-1'\n",
    "        \n",
    "    id = UnicodeAttribute(hash_key=True)\n",
    "    athlete_id = UnicodeAttribute()\n",
    "    start_date_local = UTCDateTimeAttribute() \n",
    "    name = UnicodeAttribute() \n",
    "    act_type = UnicodeAttribute()\n",
    "    device_watts = BooleanAttribute(default=False)  \n",
    "    has_heartrate = BooleanAttribute(default=False)\n",
    "    on_s3 = BooleanAttribute(default=False)\n",
    "    ti = NumberAttribute(null=True)\n",
    "    ti_w = NumberAttribute(null=True)\n",
    "    ti_hr = NumberAttribute(null=True)\n",
    "    \n",
    "    @classmethod\n",
    "    def from_stravalib(cls, act):\n",
    "        check_athlete(act.athlete)        \n",
    "        device = act.device_watts if act.device_watts else False\n",
    "        act = cls(id = str(act.id), name = act.name, athlete_id = str(act.athlete.id), act_type = act.type, \n",
    "                        device_watts=device, start_date_local = act.start_date_local, has_heartrate = act.has_heartrate,\n",
    "                        )     \n",
    "        return act\n",
    "    \n",
    "    def save_stream(self, h):\n",
    "        if not self.on_s3:\n",
    "            streams = h.client.get_activity_streams(self.id, types=types, series_type=\"time\")\n",
    "            self.download_save(streams)\n",
    "            \n",
    "    def filename(self):        \n",
    "        if not os.path.isdir(self.athlete_id):\n",
    "            os.mkdir(self.athlete_id)\n",
    "        return self.athlete_id +'/'+ self.id + '.csv'\n",
    "    \n",
    "    def download_save(self, streams):  \n",
    "        df = pd.DataFrame()\n",
    "        f = self.filename()\n",
    "        # Write each row to a dataframe\n",
    "        for item in types:\n",
    "            if item in list(streams.keys()):\n",
    "                df[item] = pd.Series(streams[item].data, index=None)\n",
    "            df[\"act_id\"] = self.id\n",
    "            df[\"act_name\"] = self.name\n",
    "        df.to_csv(f, index=False)\n",
    "        upload_file(f)\n",
    "        self.on_s3 = True\n",
    "        self.save()\n",
    "        \n",
    "    def get_df(self) -> pd.DataFrame:\n",
    "        f = self.filename()\n",
    "        download_file(f)\n",
    "        return pd.read_csv(f)"
   ]
  },
  {
   "cell_type": "code",
   "execution_count": 78,
   "metadata": {},
   "outputs": [],
   "source": [
    "# export\n",
    "def get_activities(self, start_date = None, days = 7):\n",
    "    start_date = ifnone(start_date, pd.Timestamp.now())\n",
    "    before, after = datetime_fix(start_date, days)\n",
    "    # Returns a list of Strava activity objects, up to the number specified by limit\n",
    "    activities = self.client.get_activities(before = before, after=after)\n",
    "    return [Activity.from_stravalib(item) for item in activities]\n",
    "\n",
    "Handel.get_activities = get_activities\n"
   ]
  },
  {
   "cell_type": "code",
   "execution_count": 79,
   "metadata": {},
   "outputs": [
    {
     "name": "stdout",
     "output_type": "stream",
     "text": [
      "Welcome Tako Tabak\n"
     ]
    }
   ],
   "source": [
    "h = Handel()\n",
    "acts = h.get_activities()"
   ]
  },
  {
   "cell_type": "code",
   "execution_count": 80,
   "metadata": {},
   "outputs": [],
   "source": [
    "acts[0].save()\n",
    "acts[0].save_stream(h)"
   ]
  },
  {
   "cell_type": "code",
   "execution_count": 81,
   "metadata": {},
   "outputs": [],
   "source": [
    "# export\n",
    "def save_activities(self, activities:[]):\n",
    "    for i, act in enumerate(activities):\n",
    "        act.save_stream(self)\n",
    "    return activities\n",
    "Handel.save_activities = save_activities"
   ]
  },
  {
   "cell_type": "code",
   "execution_count": 82,
   "metadata": {},
   "outputs": [
    {
     "name": "stdout",
     "output_type": "stream",
     "text": [
      "Welcome Tako Tabak\n"
     ]
    }
   ],
   "source": [
    "h = Handel()\n",
    "acts = h.get_activities()\n",
    "acts = h.save_activities(acts)"
   ]
  },
  {
   "cell_type": "code",
   "execution_count": 83,
   "metadata": {},
   "outputs": [
    {
     "name": "stdout",
     "output_type": "stream",
     "text": [
      "motionreview-activity<3099055432>\n"
     ]
    }
   ],
   "source": [
    "print(acts[0])"
   ]
  },
  {
   "cell_type": "code",
   "execution_count": 84,
   "metadata": {},
   "outputs": [
    {
     "data": {
      "text/html": [
       "<div>\n",
       "<style scoped>\n",
       "    .dataframe tbody tr th:only-of-type {\n",
       "        vertical-align: middle;\n",
       "    }\n",
       "\n",
       "    .dataframe tbody tr th {\n",
       "        vertical-align: top;\n",
       "    }\n",
       "\n",
       "    .dataframe thead th {\n",
       "        text-align: right;\n",
       "    }\n",
       "</style>\n",
       "<table border=\"1\" class=\"dataframe\">\n",
       "  <thead>\n",
       "    <tr style=\"text-align: right;\">\n",
       "      <th></th>\n",
       "      <th>time</th>\n",
       "      <th>act_id</th>\n",
       "      <th>act_name</th>\n",
       "      <th>altitude</th>\n",
       "      <th>velocity_smooth</th>\n",
       "      <th>moving</th>\n",
       "      <th>grade_smooth</th>\n",
       "      <th>temp</th>\n",
       "    </tr>\n",
       "  </thead>\n",
       "  <tbody>\n",
       "    <tr>\n",
       "      <th>0</th>\n",
       "      <td>0</td>\n",
       "      <td>3099055432</td>\n",
       "      <td>Middagactiviteit</td>\n",
       "      <td>129.2</td>\n",
       "      <td>0</td>\n",
       "      <td>True</td>\n",
       "      <td>0.0</td>\n",
       "      <td>26</td>\n",
       "    </tr>\n",
       "    <tr>\n",
       "      <th>1</th>\n",
       "      <td>1</td>\n",
       "      <td>3099055432</td>\n",
       "      <td>Middagactiviteit</td>\n",
       "      <td>129.2</td>\n",
       "      <td>0</td>\n",
       "      <td>True</td>\n",
       "      <td>0.0</td>\n",
       "      <td>26</td>\n",
       "    </tr>\n",
       "    <tr>\n",
       "      <th>2</th>\n",
       "      <td>2</td>\n",
       "      <td>3099055432</td>\n",
       "      <td>Middagactiviteit</td>\n",
       "      <td>129.2</td>\n",
       "      <td>0</td>\n",
       "      <td>True</td>\n",
       "      <td>0.0</td>\n",
       "      <td>26</td>\n",
       "    </tr>\n",
       "    <tr>\n",
       "      <th>3</th>\n",
       "      <td>3</td>\n",
       "      <td>3099055432</td>\n",
       "      <td>Middagactiviteit</td>\n",
       "      <td>129.2</td>\n",
       "      <td>0</td>\n",
       "      <td>True</td>\n",
       "      <td>0.0</td>\n",
       "      <td>26</td>\n",
       "    </tr>\n",
       "    <tr>\n",
       "      <th>4</th>\n",
       "      <td>4</td>\n",
       "      <td>3099055432</td>\n",
       "      <td>Middagactiviteit</td>\n",
       "      <td>129.2</td>\n",
       "      <td>0</td>\n",
       "      <td>True</td>\n",
       "      <td>0.0</td>\n",
       "      <td>26</td>\n",
       "    </tr>\n",
       "  </tbody>\n",
       "</table>\n",
       "</div>"
      ],
      "text/plain": [
       "   time      act_id          act_name  altitude  velocity_smooth  moving  \\\n",
       "0     0  3099055432  Middagactiviteit     129.2                0    True   \n",
       "1     1  3099055432  Middagactiviteit     129.2                0    True   \n",
       "2     2  3099055432  Middagactiviteit     129.2                0    True   \n",
       "3     3  3099055432  Middagactiviteit     129.2                0    True   \n",
       "4     4  3099055432  Middagactiviteit     129.2                0    True   \n",
       "\n",
       "   grade_smooth  temp  \n",
       "0           0.0    26  \n",
       "1           0.0    26  \n",
       "2           0.0    26  \n",
       "3           0.0    26  \n",
       "4           0.0    26  "
      ]
     },
     "execution_count": 84,
     "metadata": {},
     "output_type": "execute_result"
    }
   ],
   "source": [
    "df = acts[0].get_df()\n",
    "test_eq(type(df),pd.DataFrame)\n",
    "df.head()"
   ]
  },
  {
   "cell_type": "code",
   "execution_count": 108,
   "metadata": {},
   "outputs": [
    {
     "name": "stdout",
     "output_type": "stream",
     "text": [
      "Converted 00_s3.ipynb.\n",
      "Converted 01_models.ipynb.\n",
      "Converted 02_ti.ipynb.\n",
      "Converted 04_auth.ipynb.\n",
      "Converted index.ipynb.\n"
     ]
    }
   ],
   "source": [
    "from nbdev.export import *\n",
    "notebook2script()\n"
   ]
  },
  {
   "cell_type": "code",
   "execution_count": null,
   "metadata": {},
   "outputs": [],
   "source": []
  }
 ],
 "metadata": {
  "kernelspec": {
   "display_name": "motionreview",
   "language": "python",
   "name": "motionreview"
  },
  "language_info": {
   "codemirror_mode": {
    "name": "ipython",
    "version": 3
   },
   "file_extension": ".py",
   "mimetype": "text/x-python",
   "name": "python",
   "nbconvert_exporter": "python",
   "pygments_lexer": "ipython3",
   "version": "3.7.2"
  }
 },
 "nbformat": 4,
 "nbformat_minor": 4
}
